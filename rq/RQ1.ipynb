{
 "cells": [
  {
   "cell_type": "markdown",
   "metadata": {
    "pycharm": {
     "name": "#%% md\n"
    }
   },
   "source": [
    "## Imports"
   ]
  },
  {
   "cell_type": "code",
   "execution_count": 3,
   "metadata": {
    "pycharm": {
     "name": "#%%\n"
    }
   },
   "outputs": [],
   "source": [
    "import json\n",
    "import sys\n",
    "from ast import literal_eval\n",
    "\n",
    "import matplotlib.pyplot as plt\n",
    "import pandas as pd\n",
    "import seaborn as sns\n",
    "from scipy import stats\n",
    "\n",
    "sys.path.append('..')\n",
    "from const import *"
   ]
  },
  {
   "cell_type": "markdown",
   "metadata": {
    "pycharm": {
     "name": "#%% md\n"
    }
   },
   "source": [
    "## Support Functions"
   ]
  },
  {
   "cell_type": "code",
   "execution_count": 4,
   "metadata": {
    "pycharm": {
     "name": "#%%\n"
    }
   },
   "outputs": [],
   "source": [
    "def compute_bins2(arr, arr2, breaks):\n",
    "    densities = []\n",
    "    bins = []\n",
    "    for i in range(len(breaks)):\n",
    "        temp = []\n",
    "        for j, value in enumerate(arr):\n",
    "            if i == 0:\n",
    "                if value <= breaks[i]:\n",
    "                    temp.append(arr2[j])\n",
    "            else:\n",
    "                if (value <= breaks[i]) & (value > breaks[i-1]):\n",
    "                    temp.append(arr2[j])\n",
    "        if temp:\n",
    "            densities.append(len(temp)/len(repo_names))\n",
    "            bins.append(temp)\n",
    "    return breaks, bins, densities"
   ]
  },
  {
   "cell_type": "markdown",
   "metadata": {
    "pycharm": {
     "name": "#%% md\n"
    }
   },
   "source": [
    "## Overall Statistic"
   ]
  },
  {
   "cell_type": "code",
   "execution_count": 5,
   "metadata": {
    "pycharm": {
     "name": "#%%\n"
    }
   },
   "outputs": [
    {
     "name": "stdout",
     "output_type": "stream",
     "text": [
      "Pull request statistics\n",
      "total: 4416\n",
      "\n",
      "open: 221 (5.004528985507246)\n",
      "closed: 4195 (94.99547101449275)\n",
      "\n",
      "rejected: 1804 (43.00357568533969)\n",
      "merged: 2391 (56.99642431466031)\n"
     ]
    }
   ],
   "source": [
    "# load pull request data that contain vulnerabilities\n",
    "pr_vuln = pd.read_csv(CSV_DATA['pr_vulnerabilities'], index_col=False)\n",
    "pr_vuln['severities'] = pr_vuln['severities'].apply(literal_eval)\n",
    "\n",
    "rejected_prs = sum(pr_vuln['state'] == 'CLOSED')\n",
    "merged_prs = sum(pr_vuln['state'] == 'MERGED')\n",
    "\n",
    "print('Pull request statistics')\n",
    "print('total: {}'.format(len(pr_vuln.index)))\n",
    "print('')\n",
    "print('open: '+str(sum(pr_vuln['state'] == 'OPEN'))+' ('+str((sum(pr_vuln['state'] == 'OPEN')/len(pr_vuln))*100)+')')\n",
    "print('closed: '+str(sum(pr_vuln['state'] != 'OPEN'))+' ('+str((sum(pr_vuln['state'] != 'OPEN')/len(pr_vuln))*100)+')')\n",
    "print('')\n",
    "print('rejected: '+str(rejected_prs)+' ('+str(rejected_prs/sum(pr_vuln['state'] != 'OPEN')*100)+')')\n",
    "print('merged: '+str(merged_prs)+' ('+str(merged_prs/sum(pr_vuln['state'] != 'OPEN')*100)+')')\n"
   ]
  },
  {
   "cell_type": "markdown",
   "metadata": {
    "pycharm": {
     "name": "#%% md\n"
    }
   },
   "source": [
    "## Merge Rate Analysis"
   ]
  },
  {
   "cell_type": "code",
   "execution_count": 6,
   "metadata": {
    "pycharm": {
     "name": "#%%\n"
    }
   },
   "outputs": [],
   "source": [
    "# load the names (GitHub slugs) of the selected repositories\n",
    "repo_names = pd.read_csv(CSV_DATA['dependabot_filtered_repos'], index_col=False)['repository'].tolist()"
   ]
  },
  {
   "cell_type": "code",
   "execution_count": 7,
   "metadata": {
    "pycharm": {
     "name": "#%%\n"
    }
   },
   "outputs": [],
   "source": [
    "projects_with_closed = []\n",
    "merged = []\n",
    "total = []\n",
    "ratio = []\n",
    "for repo_name in repo_names:\n",
    "    if repo_name not in pr_vuln.repository.unique().tolist():\n",
    "        continue\n",
    "    with open(os.path.join(JSON_DATA['security_updates'], repo_name.replace('/', '@') + '.json'), 'r', encoding='utf-8') as json_file:\n",
    "        prs = json.load(json_file)\n",
    "        closed_prs = 0\n",
    "        open_prs = 0\n",
    "        merged_prs = 0\n",
    "        for pr in prs:\n",
    "            if pr['state'] == 'CLOSED':\n",
    "                closed_prs += 1\n",
    "            elif pr['state'] == 'OPEN':\n",
    "                open_prs += 1\n",
    "            elif pr['state'] == 'MERGED':\n",
    "                merged_prs += 1\n",
    "        if closed_prs + merged_prs:\n",
    "            projects_with_closed.append(repo_name)\n",
    "            merged.append(merged_prs)\n",
    "            total.append(merged_prs + closed_prs)\n",
    "            ratio.append(merged_prs/(merged_prs + closed_prs))"
   ]
  },
  {
   "cell_type": "code",
   "execution_count": 8,
   "metadata": {
    "pycharm": {
     "name": "#%%\n"
    }
   },
   "outputs": [
    {
     "name": "stderr",
     "output_type": "stream",
     "text": [
      "/home/hamid/.local/lib/python3.10/site-packages/seaborn/distributions.py:2619: FutureWarning: `distplot` is a deprecated function and will be removed in a future version. Please adapt your code to use either `displot` (a figure-level function with similar flexibility) or `histplot` (an axes-level function for histograms).\n",
      "  warnings.warn(msg, FutureWarning)\n"
     ]
    },
    {
     "data": {
      "text/plain": "<Figure size 432x288 with 1 Axes>",
      "image/png": "[encoded data removed]"
     },
     "metadata": {
      "needs_background": "light"
     },
     "output_type": "display_data"
    }
   ],
   "source": [
    "from scipy.stats import norm\n",
    "from matplotlib.lines import Line2D\n",
    "\n",
    "plt.rcParams[\"figure.figsize\"] = (12,3)\n",
    "ax = sns.distplot(total, bins = 67, color=\"dodgerblue\", fit=norm, kde=False, norm_hist=True)\n",
    "ax.text(x=0.983, y=0.97, transform=ax.transAxes, s=\"Skewness: %f\" % stats.skew(total),\n",
    "        fontsize=10, verticalalignment='top', horizontalalignment='right',\n",
    "        backgroundcolor='white', color='black')\n",
    "ax.text(x=0.983, y=0.88, transform=ax.transAxes, s=\"Kurtosis: %f\" % stats.kurtosis(total, fisher=False),\n",
    "        fontsize=10, verticalalignment='top', horizontalalignment='right',\n",
    "        backgroundcolor='white', color='black')\n",
    "ax.set_xlim([0,67])\n",
    "ax.set_yticks([0.01, 0.06, 0.11, 0.16, 0.21, 0.26])\n",
    "ax.set_yticklabels([0, 50, 100, 150, 200, 250])\n",
    "quantiles = stats.mstats.mquantiles(total)\n",
    "ax.set_ylabel('Number of projects')\n",
    "ax.set_xlabel('Number of security updates')\n",
    "ax.vlines(quantiles[1], 0, ax.lines[0].get_ydata()[int(quantiles[1])+12], color='black', ls='--',linewidth=2.0)\n",
    "ax.vlines(quantiles[0], 0, ax.lines[0].get_ydata()[int(quantiles[0])+9], color='purple', ls='--',linewidth=2.0)\n",
    "ax.vlines(quantiles[2], 0, ax.lines[0].get_ydata()[int(quantiles[2])+17], color='purple', ls='--',linewidth=2.0)\n",
    "ax.vlines(quantiles[2] + 1.5*(quantiles[2]-quantiles[0]), 0, 0.033, color='crimson', ls='--')\n",
    "ax.set_xticks([quantiles[0], quantiles[1], quantiles[2], quantiles[2] + 1.5*(quantiles[2]-quantiles[0]), max(total)])\n",
    "custom_lines = [Line2D([0], [0], color='black', lw=2),\n",
    "                Line2D([0], [0], color='black', ls='--', lw=2),\n",
    "                Line2D([0], [0], color='purple', ls='--', lw=2),\n",
    "                Line2D([0], [0], color='crimson', ls='--', lw=2)]\n",
    "lgd = ax.legend(custom_lines, ['Normal Distribution', 'Median', 'Lower/Upper Quartile', 'Lower/Upper Tail'],\n",
    "                bbox_to_anchor=(1.01, 1), loc='upper left', borderaxespad=0.)\n",
    "plt.savefig('RQ1-distribution.png', dpi=600, bbox_extra_artists=(lgd,), bbox_inches='tight')"
   ]
  },
  {
   "cell_type": "code",
   "execution_count": 9,
   "metadata": {
    "pycharm": {
     "name": "#%%\n"
    }
   },
   "outputs": [
    {
     "data": {
      "text/plain": "  #_security_updates  merge_ratio\n0              [1,2]          0.5\n1              [1,2]          0.0\n2              [1,2]          0.0\n3              [1,2]          0.0\n4              [1,2]          0.0",
      "text/html": "<div>\n<style scoped>\n    .dataframe tbody tr th:only-of-type {\n        vertical-align: middle;\n    }\n\n    .dataframe tbody tr th {\n        vertical-align: top;\n    }\n\n    .dataframe thead th {\n        text-align: right;\n    }\n</style>\n<table border=\"1\" class=\"dataframe\">\n  <thead>\n    <tr style=\"text-align: right;\">\n      <th></th>\n      <th>#_security_updates</th>\n      <th>merge_ratio</th>\n    </tr>\n  </thead>\n  <tbody>\n    <tr>\n      <th>0</th>\n      <td>[1,2]</td>\n      <td>0.5</td>\n    </tr>\n    <tr>\n      <th>1</th>\n      <td>[1,2]</td>\n      <td>0.0</td>\n    </tr>\n    <tr>\n      <th>2</th>\n      <td>[1,2]</td>\n      <td>0.0</td>\n    </tr>\n    <tr>\n      <th>3</th>\n      <td>[1,2]</td>\n      <td>0.0</td>\n    </tr>\n    <tr>\n      <th>4</th>\n      <td>[1,2]</td>\n      <td>0.0</td>\n    </tr>\n  </tbody>\n</table>\n</div>"
     },
     "execution_count": 9,
     "metadata": {},
     "output_type": "execute_result"
    }
   ],
   "source": [
    "breaks, bins, densities = compute_bins2(total, ratio, [2, 4, 10, 67])\n",
    "plt.rcParams[\"figure.figsize\"] = (20,5)\n",
    "number_of_prs = []\n",
    "merge_rates = []\n",
    "for i, value in enumerate(breaks):\n",
    "    if i == 0:\n",
    "        for j in bins[i]:\n",
    "            number_of_prs.append('[1,' + str(int(value)) + ']')\n",
    "            merge_rates.append(j)\n",
    "    else:\n",
    "        if value - breaks[i-1] > 1:\n",
    "            for j in bins[i]:\n",
    "                number_of_prs.append('[' + str(int(breaks[i-1]) + 1) + ',' + str(int(value)) + ']')\n",
    "                merge_rates.append(j)\n",
    "        else:\n",
    "            for j in bins[i]:\n",
    "                number_of_prs.append(str(int(value)))\n",
    "                merge_rates.append(j)\n",
    "df = pd.DataFrame({'#_security_updates': number_of_prs, 'merge_ratio': merge_rates})\n",
    "df.head()"
   ]
  },
  {
   "cell_type": "code",
   "execution_count": 11,
   "metadata": {
    "scrolled": true,
    "pycharm": {
     "name": "#%%\n"
    }
   },
   "outputs": [
    {
     "data": {
      "text/plain": "  #_security_updates merge_ratio                                        \n                           count  mean   std  min   25%   50%   75%  max\n0              [1,2]       441.0  0.49  0.47  0.0  0.00  0.50  1.00  1.0\n1            [11,67]        72.0  0.61  0.38  0.0  0.26  0.78  0.94  1.0\n2              [3,4]       213.0  0.59  0.43  0.0  0.00  0.75  1.00  1.0\n3             [5,10]       236.0  0.57  0.42  0.0  0.00  0.80  1.00  1.0",
      "text/html": "<div>\n<style scoped>\n    .dataframe tbody tr th:only-of-type {\n        vertical-align: middle;\n    }\n\n    .dataframe tbody tr th {\n        vertical-align: top;\n    }\n\n    .dataframe thead tr th {\n        text-align: left;\n    }\n</style>\n<table border=\"1\" class=\"dataframe\">\n  <thead>\n    <tr>\n      <th></th>\n      <th>#_security_updates</th>\n      <th colspan=\"8\" halign=\"left\">merge_ratio</th>\n    </tr>\n    <tr>\n      <th></th>\n      <th></th>\n      <th>count</th>\n      <th>mean</th>\n      <th>std</th>\n      <th>min</th>\n      <th>25%</th>\n      <th>50%</th>\n      <th>75%</th>\n      <th>max</th>\n    </tr>\n  </thead>\n  <tbody>\n    <tr>\n      <th>0</th>\n      <td>[1,2]</td>\n      <td>441.0</td>\n      <td>0.49</td>\n      <td>0.47</td>\n      <td>0.0</td>\n      <td>0.00</td>\n      <td>0.50</td>\n      <td>1.00</td>\n      <td>1.0</td>\n    </tr>\n    <tr>\n      <th>1</th>\n      <td>[11,67]</td>\n      <td>72.0</td>\n      <td>0.61</td>\n      <td>0.38</td>\n      <td>0.0</td>\n      <td>0.26</td>\n      <td>0.78</td>\n      <td>0.94</td>\n      <td>1.0</td>\n    </tr>\n    <tr>\n      <th>2</th>\n      <td>[3,4]</td>\n      <td>213.0</td>\n      <td>0.59</td>\n      <td>0.43</td>\n      <td>0.0</td>\n      <td>0.00</td>\n      <td>0.75</td>\n      <td>1.00</td>\n      <td>1.0</td>\n    </tr>\n    <tr>\n      <th>3</th>\n      <td>[5,10]</td>\n      <td>236.0</td>\n      <td>0.57</td>\n      <td>0.42</td>\n      <td>0.0</td>\n      <td>0.00</td>\n      <td>0.80</td>\n      <td>1.00</td>\n      <td>1.0</td>\n    </tr>\n  </tbody>\n</table>\n</div>"
     },
     "execution_count": 11,
     "metadata": {},
     "output_type": "execute_result"
    }
   ],
   "source": [
    "df2 = df.copy()\n",
    "df2['merge_ratio'] = df2['merge_ratio']*100\n",
    "groupedstats= df.groupby('#_security_updates').describe().reset_index().round(2)\n",
    "groupedstats"
   ]
  },
  {
   "cell_type": "code",
   "execution_count": 15,
   "metadata": {
    "pycharm": {
     "name": "#%%\n"
    }
   },
   "outputs": [
    {
     "data": {
      "text/plain": "   index  merge_ratio\n0  count       962.00\n1   mean        54.31\n2    std        44.27\n3    min         0.00\n4    25%         0.00\n5    50%        66.67\n6    75%       100.00\n7    max       100.00",
      "text/html": "<div>\n<style scoped>\n    .dataframe tbody tr th:only-of-type {\n        vertical-align: middle;\n    }\n\n    .dataframe tbody tr th {\n        vertical-align: top;\n    }\n\n    .dataframe thead th {\n        text-align: right;\n    }\n</style>\n<table border=\"1\" class=\"dataframe\">\n  <thead>\n    <tr style=\"text-align: right;\">\n      <th></th>\n      <th>index</th>\n      <th>merge_ratio</th>\n    </tr>\n  </thead>\n  <tbody>\n    <tr>\n      <th>0</th>\n      <td>count</td>\n      <td>962.00</td>\n    </tr>\n    <tr>\n      <th>1</th>\n      <td>mean</td>\n      <td>54.31</td>\n    </tr>\n    <tr>\n      <th>2</th>\n      <td>std</td>\n      <td>44.27</td>\n    </tr>\n    <tr>\n      <th>3</th>\n      <td>min</td>\n      <td>0.00</td>\n    </tr>\n    <tr>\n      <th>4</th>\n      <td>25%</td>\n      <td>0.00</td>\n    </tr>\n    <tr>\n      <th>5</th>\n      <td>50%</td>\n      <td>66.67</td>\n    </tr>\n    <tr>\n      <th>6</th>\n      <td>75%</td>\n      <td>100.00</td>\n    </tr>\n    <tr>\n      <th>7</th>\n      <td>max</td>\n      <td>100.00</td>\n    </tr>\n  </tbody>\n</table>\n</div>"
     },
     "execution_count": 15,
     "metadata": {},
     "output_type": "execute_result"
    }
   ],
   "source": [
    "#Total statistics\n",
    "df2['merge_ratio'].describe().reset_index().round(2)"
   ]
  },
  {
   "cell_type": "markdown",
   "metadata": {
    "pycharm": {
     "name": "#%% md\n"
    }
   },
   "source": [
    "## Statistical Analysis"
   ]
  },
  {
   "cell_type": "code",
   "execution_count": 12,
   "metadata": {
    "scrolled": false,
    "pycharm": {
     "name": "#%%\n"
    }
   },
   "outputs": [
    {
     "name": "stderr",
     "output_type": "stream",
     "text": [
      "/tmp/ipykernel_842800/307167850.py:19: FutureWarning: The frame.append method is deprecated and will be removed from pandas in a future version. Use pandas.concat instead.\n",
      "  pvalues = pvalues.append({\n",
      "/tmp/ipykernel_842800/307167850.py:19: FutureWarning: The frame.append method is deprecated and will be removed from pandas in a future version. Use pandas.concat instead.\n",
      "  pvalues = pvalues.append({\n",
      "/tmp/ipykernel_842800/307167850.py:19: FutureWarning: The frame.append method is deprecated and will be removed from pandas in a future version. Use pandas.concat instead.\n",
      "  pvalues = pvalues.append({\n",
      "/tmp/ipykernel_842800/307167850.py:19: FutureWarning: The frame.append method is deprecated and will be removed from pandas in a future version. Use pandas.concat instead.\n",
      "  pvalues = pvalues.append({\n",
      "/tmp/ipykernel_842800/307167850.py:19: FutureWarning: The frame.append method is deprecated and will be removed from pandas in a future version. Use pandas.concat instead.\n",
      "  pvalues = pvalues.append({\n",
      "/tmp/ipykernel_842800/307167850.py:19: FutureWarning: The frame.append method is deprecated and will be removed from pandas in a future version. Use pandas.concat instead.\n",
      "  pvalues = pvalues.append({\n"
     ]
    },
    {
     "data": {
      "text/plain": "   group1   group2    pvalue\n0   [1,2]    [3,4]  0.025250\n1   [1,2]   [5,10]  0.100049\n2   [1,2]  [11,67]  0.328718\n3   [3,4]   [5,10]  0.620962\n4   [3,4]  [11,67]  0.544996\n5  [5,10]  [11,67]  0.975924",
      "text/html": "<div>\n<style scoped>\n    .dataframe tbody tr th:only-of-type {\n        vertical-align: middle;\n    }\n\n    .dataframe tbody tr th {\n        vertical-align: top;\n    }\n\n    .dataframe thead th {\n        text-align: right;\n    }\n</style>\n<table border=\"1\" class=\"dataframe\">\n  <thead>\n    <tr style=\"text-align: right;\">\n      <th></th>\n      <th>group1</th>\n      <th>group2</th>\n      <th>pvalue</th>\n    </tr>\n  </thead>\n  <tbody>\n    <tr>\n      <th>0</th>\n      <td>[1,2]</td>\n      <td>[3,4]</td>\n      <td>0.025250</td>\n    </tr>\n    <tr>\n      <th>1</th>\n      <td>[1,2]</td>\n      <td>[5,10]</td>\n      <td>0.100049</td>\n    </tr>\n    <tr>\n      <th>2</th>\n      <td>[1,2]</td>\n      <td>[11,67]</td>\n      <td>0.328718</td>\n    </tr>\n    <tr>\n      <th>3</th>\n      <td>[3,4]</td>\n      <td>[5,10]</td>\n      <td>0.620962</td>\n    </tr>\n    <tr>\n      <th>4</th>\n      <td>[3,4]</td>\n      <td>[11,67]</td>\n      <td>0.544996</td>\n    </tr>\n    <tr>\n      <th>5</th>\n      <td>[5,10]</td>\n      <td>[11,67]</td>\n      <td>0.975924</td>\n    </tr>\n  </tbody>\n</table>\n</div>"
     },
     "execution_count": 12,
     "metadata": {},
     "output_type": "execute_result"
    }
   ],
   "source": [
    "from scipy.stats import mannwhitneyu\n",
    "\n",
    "df = df.rename(index=str,columns={'#_security_updates':'group'})\n",
    "\n",
    "pvalues = pd.DataFrame()\n",
    "\n",
    "categories = df.group.unique()\n",
    "\n",
    "for i in range(0,len(categories)):\n",
    "    for j in range(i,len(categories)):\n",
    "        if i==j:\n",
    "            continue\n",
    "        \n",
    "        group1 = categories[i]\n",
    "        group2 = categories[j]\n",
    "        stat, p = mannwhitneyu(df[df['group']==group1].merge_ratio.values.tolist(), \n",
    "                               df[df['group']==group2].merge_ratio.values.tolist())\n",
    "        \n",
    "        pvalues = pvalues.append({\n",
    "            'group1':group1,\n",
    "            'group2':group2,\n",
    "            'pvalue':p\n",
    "        },ignore_index=True)\n",
    "\n",
    "pvalues"
   ]
  },
  {
   "cell_type": "code",
   "execution_count": 13,
   "metadata": {
    "pycharm": {
     "name": "#%%\n"
    }
   },
   "outputs": [
    {
     "data": {
      "text/plain": "   group1   group2    pvalue  corrected_pvalue  rejectH0\n0   [1,2]    [3,4]  0.025250          0.151503     False\n1   [1,2]   [5,10]  0.100049          0.600295     False\n2   [1,2]  [11,67]  0.328718          1.000000     False\n3   [3,4]   [5,10]  0.620962          1.000000     False\n4   [3,4]  [11,67]  0.544996          1.000000     False\n5  [5,10]  [11,67]  0.975924          1.000000     False",
      "text/html": "<div>\n<style scoped>\n    .dataframe tbody tr th:only-of-type {\n        vertical-align: middle;\n    }\n\n    .dataframe tbody tr th {\n        vertical-align: top;\n    }\n\n    .dataframe thead th {\n        text-align: right;\n    }\n</style>\n<table border=\"1\" class=\"dataframe\">\n  <thead>\n    <tr style=\"text-align: right;\">\n      <th></th>\n      <th>group1</th>\n      <th>group2</th>\n      <th>pvalue</th>\n      <th>corrected_pvalue</th>\n      <th>rejectH0</th>\n    </tr>\n  </thead>\n  <tbody>\n    <tr>\n      <th>0</th>\n      <td>[1,2]</td>\n      <td>[3,4]</td>\n      <td>0.025250</td>\n      <td>0.151503</td>\n      <td>False</td>\n    </tr>\n    <tr>\n      <th>1</th>\n      <td>[1,2]</td>\n      <td>[5,10]</td>\n      <td>0.100049</td>\n      <td>0.600295</td>\n      <td>False</td>\n    </tr>\n    <tr>\n      <th>2</th>\n      <td>[1,2]</td>\n      <td>[11,67]</td>\n      <td>0.328718</td>\n      <td>1.000000</td>\n      <td>False</td>\n    </tr>\n    <tr>\n      <th>3</th>\n      <td>[3,4]</td>\n      <td>[5,10]</td>\n      <td>0.620962</td>\n      <td>1.000000</td>\n      <td>False</td>\n    </tr>\n    <tr>\n      <th>4</th>\n      <td>[3,4]</td>\n      <td>[11,67]</td>\n      <td>0.544996</td>\n      <td>1.000000</td>\n      <td>False</td>\n    </tr>\n    <tr>\n      <th>5</th>\n      <td>[5,10]</td>\n      <td>[11,67]</td>\n      <td>0.975924</td>\n      <td>1.000000</td>\n      <td>False</td>\n    </tr>\n  </tbody>\n</table>\n</div>"
     },
     "execution_count": 13,
     "metadata": {},
     "output_type": "execute_result"
    }
   ],
   "source": [
    "#Bonferroni correction for multiple comparisons\n",
    "import statsmodels.stats.multitest as smt\n",
    "\n",
    "bonfresults = smt.multipletests(\n",
    "            pvalues.pvalue.values.tolist(),\n",
    "            alpha=0.05,\n",
    "            method='bonferroni')\n",
    "\n",
    "pvalues['corrected_pvalue'] = bonfresults[1]\n",
    "\n",
    "newthres = bonfresults[3]\n",
    "\n",
    "pvalues['rejectH0'] = pvalues.apply(lambda x: True if x['corrected_pvalue']<newthres else False , axis=1)\n",
    "pvalues"
   ]
  }
 ],
 "metadata": {
  "kernelspec": {
   "display_name": "Python 3",
   "language": "python",
   "name": "python3"
  },
  "language_info": {
   "codemirror_mode": {
    "name": "ipython",
    "version": 3
   },
   "file_extension": ".py",
   "mimetype": "text/x-python",
   "name": "python",
   "nbconvert_exporter": "python",
   "pygments_lexer": "ipython3",
   "version": "3.8.2"
  }
 },
 "nbformat": 4,
 "nbformat_minor": 4
}