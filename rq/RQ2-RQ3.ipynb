{
 "cells": [
  {
   "cell_type": "markdown",
   "metadata": {},
   "source": [
    "## Imports"
   ]
  },
  {
   "cell_type": "code",
   "execution_count": 1,
   "metadata": {},
   "outputs": [],
   "source": [
    "import itertools\n",
    "import sys\n",
    "from collections import Counter\n",
    "\n",
    "import numpy as np\n",
    "import pandas as pd\n",
    "from scipy import stats\n",
    "\n",
    "sys.path.append('..')\n",
    "from const import *"
   ]
  },
  {
   "cell_type": "markdown",
   "metadata": {},
   "source": [
    "## Support Functions"
   ]
  },
  {
   "cell_type": "code",
   "execution_count": 2,
   "metadata": {},
   "outputs": [],
   "source": [
    "def fix_proportion2(fixes, mode='both'):\n",
    "    absolute = [\n",
    "        sum(fixes['by'] == 'human') + sum(fixes['by'] == 'bot'),\n",
    "        len(fixes.index) - sum(fixes['by'] == 'human') - sum(fixes['by'] == 'bot'),\n",
    "        sum(fixes['by'] == 'bot'),\n",
    "        sum(fixes['by'] == 'human')\n",
    "    ]\n",
    "    relative = [\n",
    "        str(round((sum(fixes['by'] == 'human') + sum(fixes['by'] == 'bot'))/len(fixes.index) * 100, 2)) + \"%\",\n",
    "        str(round((len(fixes.index) - sum(fixes['by'] == 'human') - sum(fixes['by'] == 'bot'))/len(fixes.index) * 100, 2)) + \"%\",\n",
    "        str(round(sum(fixes['by'] == 'bot') / (sum(fixes['by'] == 'human') + sum(fixes['by'] == 'bot')) * 100, 2)) + \"%\",\n",
    "        str(round(sum(fixes['by'] == 'human') / (sum(fixes['by'] == 'human') + sum(fixes['by'] == 'bot')) * 100, 2)) + \"%\"\n",
    "    ]\n",
    "    if mode == 'both':\n",
    "        return absolute, relative\n",
    "    elif mode == 'absolute':\n",
    "        return absolute\n",
    "    elif mode == 'relative':\n",
    "        return relative\n",
    "    else:\n",
    "        return None\n",
    "    \n",
    "def fix_proportion_constrained(fixes, prs, lower, upper, mode='both'):\n",
    "    combo = fixes.merge(prs, how='inner', on='repository')\n",
    "    return fix_proportion2(combo[(combo['prs'] > lower) & (combo['prs'] < upper)], mode)"
   ]
  },
  {
   "cell_type": "markdown",
   "metadata": {},
   "source": [
    "## Load Data"
   ]
  },
  {
   "cell_type": "code",
   "execution_count": 3,
   "metadata": {},
   "outputs": [],
   "source": [
    "fixes = pd.read_csv(CSV_DATA['fixes_labels_round_2'], index_col=False)\n",
    "\n",
    "reasons = pd.read_csv(CSV_DATA['stage_2_second_rater_true'], index_col=False)\n",
    "pr_vuln = pd.read_csv(CSV_DATA['pr_vulnerabilities'], index_col=False)\n",
    "pr_vuln = pr_vuln[pr_vuln['state'] != 'OPEN']\n",
    "pr_nums = []\n",
    "projects = set(pr_vuln['repository'].to_list())\n",
    "for project in projects:\n",
    "    pr_nums.append(len(pr_vuln[pr_vuln['repository'] == project].index))\n",
    "pr_nums = pd.DataFrame({'repository': list(projects), 'prs': pr_nums})"
   ]
  },
  {
   "cell_type": "markdown",
   "metadata": {},
   "source": [
    "## Overall Analysis"
   ]
  },
  {
   "cell_type": "code",
   "execution_count": 4,
   "metadata": {},
   "outputs": [
    {
     "data": {
      "text/plain": "4195"
     },
     "execution_count": 4,
     "metadata": {},
     "output_type": "execute_result"
    }
   ],
   "source": [
    "len(pr_vuln)"
   ]
  },
  {
   "cell_type": "code",
   "execution_count": 5,
   "metadata": {},
   "outputs": [
    {
     "data": {
      "text/plain": "4978"
     },
     "execution_count": 5,
     "metadata": {},
     "output_type": "execute_result"
    }
   ],
   "source": [
    "len(fixes)"
   ]
  },
  {
   "cell_type": "code",
   "execution_count": 6,
   "metadata": {},
   "outputs": [
    {
     "data": {
      "text/plain": "4169"
     },
     "execution_count": 6,
     "metadata": {},
     "output_type": "execute_result"
    }
   ],
   "source": [
    "len(fixes[fixes['fixed']==True])"
   ]
  },
  {
   "cell_type": "code",
   "execution_count": 7,
   "metadata": {},
   "outputs": [
    {
     "data": {
      "text/plain": "   fixed  case  case_perc\n0  False   809  16.251507\n1   True  4169  83.748493",
      "text/html": "<div>\n<style scoped>\n    .dataframe tbody tr th:only-of-type {\n        vertical-align: middle;\n    }\n\n    .dataframe tbody tr th {\n        vertical-align: top;\n    }\n\n    .dataframe thead th {\n        text-align: right;\n    }\n</style>\n<table border=\"1\" class=\"dataframe\">\n  <thead>\n    <tr style=\"text-align: right;\">\n      <th></th>\n      <th>fixed</th>\n      <th>case</th>\n      <th>case_perc</th>\n    </tr>\n  </thead>\n  <tbody>\n    <tr>\n      <th>0</th>\n      <td>False</td>\n      <td>809</td>\n      <td>16.251507</td>\n    </tr>\n    <tr>\n      <th>1</th>\n      <td>True</td>\n      <td>4169</td>\n      <td>83.748493</td>\n    </tr>\n  </tbody>\n</table>\n</div>"
     },
     "execution_count": 7,
     "metadata": {},
     "output_type": "execute_result"
    }
   ],
   "source": [
    "#Statistics only on fixing vulnerabilities\n",
    "statisticsgrouped1 = fixes.groupby(by=['fixed'])['case'].count().reset_index()\n",
    "statisticsgrouped1['case_perc'] = (statisticsgrouped1['case'] / statisticsgrouped1.case.sum())*100\n",
    "statisticsgrouped1"
   ]
  },
  {
   "cell_type": "code",
   "execution_count": 8,
   "metadata": {},
   "outputs": [
    {
     "data": {
      "text/plain": "   fixed     by  case  case_perc\n0  False          809  16.251507\n1   True    bot  2662  53.475291\n2   True  human  1507  30.273202",
      "text/html": "<div>\n<style scoped>\n    .dataframe tbody tr th:only-of-type {\n        vertical-align: middle;\n    }\n\n    .dataframe tbody tr th {\n        vertical-align: top;\n    }\n\n    .dataframe thead th {\n        text-align: right;\n    }\n</style>\n<table border=\"1\" class=\"dataframe\">\n  <thead>\n    <tr style=\"text-align: right;\">\n      <th></th>\n      <th>fixed</th>\n      <th>by</th>\n      <th>case</th>\n      <th>case_perc</th>\n    </tr>\n  </thead>\n  <tbody>\n    <tr>\n      <th>0</th>\n      <td>False</td>\n      <td></td>\n      <td>809</td>\n      <td>16.251507</td>\n    </tr>\n    <tr>\n      <th>1</th>\n      <td>True</td>\n      <td>bot</td>\n      <td>2662</td>\n      <td>53.475291</td>\n    </tr>\n    <tr>\n      <th>2</th>\n      <td>True</td>\n      <td>human</td>\n      <td>1507</td>\n      <td>30.273202</td>\n    </tr>\n  </tbody>\n</table>\n</div>"
     },
     "execution_count": 8,
     "metadata": {},
     "output_type": "execute_result"
    }
   ],
   "source": [
    "# statistics of all vulnerabilities\n",
    "statisticsgrouped2 = fixes.fillna('')\n",
    "\n",
    "statisticsgrouped2 = statisticsgrouped2.groupby(by=['fixed','by'])['case'].count().reset_index()\n",
    "statisticsgrouped2['case_perc'] = (statisticsgrouped2['case'] / statisticsgrouped2.case.sum())*100\n",
    "statisticsgrouped2"
   ]
  },
  {
   "cell_type": "code",
   "execution_count": 9,
   "outputs": [
    {
     "data": {
      "text/plain": "      Unnamed: 0  case                                repository  number  \\\n20            20    20                   ACM-UCI/ACM-UCI-Website      82   \n64            64    64          AlexsLemonade/refinebio-frontend     882   \n417          433   436                    FUB-HCC/IKON-projektor     225   \n630          647   650      Integreat/integreat-react-native-app     223   \n635          652   655                Integreat/integreat-webapp     330   \n971         1002  1005                    SofthouseVxo/Education       6   \n1089        1120  1123                       Thorium-Sim/thorium    2842   \n1146        1177  1180                           VizierDB/web-ui     132   \n1147        1178  1181                           VizierDB/web-ui     133   \n1269        1300  1303                  appbaseio/reactivesearch    1384   \n1495        1526  1530                     brillout/wildcard-api      42   \n1496        1527  1531                     brillout/wildcard-api      43   \n1497        1528  1532                     brillout/wildcard-api      44   \n1676        1707  1711                 codypearce/material-bread     377   \n2017        2058  2062                  eggheadio/how-to-egghead     122   \n2225        2270  2277                     flow-typed/flow-typed    3775   \n2402        2451  2460                           gladly-team/tab     742   \n2403        2452  2461                           gladly-team/tab     743   \n2404        2453  2462                           gladly-team/tab     744   \n2405        2454  2463                           gladly-team/tab     745   \n2406        2455  2464                           gladly-team/tab     746   \n2478        2527  2536                       guardian/facia-tool    1206   \n2484        2533  2542                  guidokessels/xwing-data2     346   \n2599        2661  2671                             immerjs/immer     552   \n2731        2793  2805                   jaegertracing/jaeger-ui     545   \n2795        2857  2870                jquense/react-big-calendar    1653   \n2839        2901  2914                      keyboardio/Chrysalis     488   \n2872        2934  2947             kubesphere/docs.kubesphere.io     684   \n2873        2935  2948             kubesphere/docs.kubesphere.io     702   \n2880        2942  2955                     kubesphere/ks-website     154   \n3100        3162  3175                        magento/pwa-studio    2312   \n3125        3187  3200                makerdao/governance-portal     167   \n3231        3293  3306                        mermaid-js/mermaid    1307   \n3615        3679  3693                       osmlab/maproulette3    1169   \n3805        3872  3906         prescottprue/react-redux-firebase     798   \n3820        3887  3921         prescottprue/react-redux-firebase     881   \n3821        3888  3922         prescottprue/react-redux-firebase     882   \n3822        3889  3923         prescottprue/react-redux-firebase     902   \n3823        3890  3924         prescottprue/react-redux-firebase     903   \n3928        3995  4029        react-atomic/react-atomic-organism      12   \n3952        4019  4053       react-native-tvos/react-native-tvos      53   \n4015        4082  4116                      replicatedhq/kotsadm    1245   \n4071        4138  4172                      samtecspg/articulate     995   \n4179        4246  4280                       sheinsight/shineout     569   \n4198        4265  4299                     single-spa/single-spa     479   \n4229        4296  4330  software-mansion/react-native-reanimated     653   \n4354        4423  4457            tacoinfra/developers.tezos.com      44   \n4370        4439  4473                 tannerlinsley/react-table    1997   \n4371        4440  4474                 tannerlinsley/react-table    2002   \n4372        4441  4475                 tannerlinsley/react-table    2019   \n4373        4442  4476                 tannerlinsley/react-table    2020   \n4374        4443  4477                 tannerlinsley/react-table    2054   \n4375        4444  4478                 tannerlinsley/react-table    2103   \n4376        4445  4479                 tannerlinsley/react-table    2105   \n4451        4523  4558                         tidepool-org/blip     675   \n4460        4532  4567                          tidepool-org/viz     191   \n4683        4755  4790                               vercel/docs    1716   \n4714        4786  4821                           vtex-apps/store     438   \n\n     associated             package                 ghsa  fixed   by     A  \\\n20           []               acorn  GHSA-6chw-6frg-f759  False  NaN   NaN   \n64           []               acorn  GHSA-6chw-6frg-f759  False  NaN   NaN   \n417          []               acorn  GHSA-6chw-6frg-f759  False  NaN   NaN   \n630          []               acorn  GHSA-6chw-6frg-f759  False  NaN   NaN   \n635          []               acorn  GHSA-6chw-6frg-f759  False  NaN   NaN   \n971          []               acorn  GHSA-6chw-6frg-f759  False  NaN   NaN   \n1089         []               acorn  GHSA-6chw-6frg-f759  False  NaN   NaN   \n1146         []          handlebars  GHSA-q42p-pg8m-cqh6  False  NaN  True   \n1147         []  webpack-dev-server  GHSA-cf66-xwfp-gvc4  False  NaN  True   \n1269         []               acorn  GHSA-6chw-6frg-f759  False  NaN   NaN   \n1495         []               acorn  GHSA-6chw-6frg-f759  False  NaN   NaN   \n1496         []               acorn  GHSA-6chw-6frg-f759  False  NaN   NaN   \n1497         []               acorn  GHSA-6chw-6frg-f759  False  NaN   NaN   \n1676         []               acorn  GHSA-6chw-6frg-f759  False  NaN   NaN   \n2017         []               acorn  GHSA-6chw-6frg-f759  False  NaN   NaN   \n2225         []               acorn  GHSA-6chw-6frg-f759  False  NaN   NaN   \n2402         []               acorn  GHSA-6chw-6frg-f759  False  NaN   NaN   \n2403         []               acorn  GHSA-6chw-6frg-f759  False  NaN   NaN   \n2404         []               acorn  GHSA-6chw-6frg-f759  False  NaN   NaN   \n2405         []               acorn  GHSA-6chw-6frg-f759  False  NaN   NaN   \n2406         []               acorn  GHSA-6chw-6frg-f759  False  NaN   NaN   \n2478         []               acorn  GHSA-6chw-6frg-f759  False  NaN   NaN   \n2484         []               acorn  GHSA-6chw-6frg-f759  False  NaN   NaN   \n2599         []               acorn  GHSA-6chw-6frg-f759  False  NaN   NaN   \n2731         []               acorn  GHSA-6chw-6frg-f759  False  NaN   NaN   \n2795         []               acorn  GHSA-6chw-6frg-f759  False  NaN   NaN   \n2839         []               acorn  GHSA-6chw-6frg-f759  False  NaN   NaN   \n2872         []               acorn  GHSA-6chw-6frg-f759  False  NaN   NaN   \n2873         []               acorn  GHSA-6chw-6frg-f759  False  NaN   NaN   \n2880         []               acorn  GHSA-6chw-6frg-f759  False  NaN   NaN   \n3100         []               acorn  GHSA-6chw-6frg-f759  False  NaN   NaN   \n3125         []               acorn  GHSA-6chw-6frg-f759  False  NaN   NaN   \n3231         []               acorn  GHSA-6chw-6frg-f759  False  NaN   NaN   \n3615         []               acorn  GHSA-6chw-6frg-f759  False  NaN   NaN   \n3805         []                  ws  GHSA-5v72-xg48-5rpm  False  NaN   NaN   \n3820         []               acorn  GHSA-6chw-6frg-f759  False  NaN   NaN   \n3821         []               acorn  GHSA-6chw-6frg-f759  False  NaN   NaN   \n3822         []               acorn  GHSA-6chw-6frg-f759  False  NaN   NaN   \n3823         []               acorn  GHSA-6chw-6frg-f759  False  NaN   NaN   \n3928  [12, 145]               acorn  GHSA-6chw-6frg-f759  False  NaN   NaN   \n3952         []               acorn  GHSA-6chw-6frg-f759  False  NaN   NaN   \n4015         []               acorn  GHSA-6chw-6frg-f759  False  NaN   NaN   \n4071         []               acorn  GHSA-6chw-6frg-f759  False  NaN   NaN   \n4179         []               acorn  GHSA-6chw-6frg-f759  False  NaN   NaN   \n4198         []               acorn  GHSA-6chw-6frg-f759  False  NaN   NaN   \n4229         []               acorn  GHSA-6chw-6frg-f759  False  NaN   NaN   \n4354         []               acorn  GHSA-6chw-6frg-f759  False  NaN   NaN   \n4370         []               acorn  GHSA-6chw-6frg-f759  False  NaN   NaN   \n4371         []               acorn  GHSA-6chw-6frg-f759  False  NaN   NaN   \n4372         []               acorn  GHSA-6chw-6frg-f759  False  NaN   NaN   \n4373         []               acorn  GHSA-6chw-6frg-f759  False  NaN   NaN   \n4374         []               acorn  GHSA-6chw-6frg-f759  False  NaN   NaN   \n4375         []               acorn  GHSA-6chw-6frg-f759  False  NaN   NaN   \n4376         []               acorn  GHSA-6chw-6frg-f759  False  NaN   NaN   \n4451         []               acorn  GHSA-6chw-6frg-f759  False  NaN   NaN   \n4460         []               acorn  GHSA-6chw-6frg-f759  False  NaN   NaN   \n4683         []               acorn  GHSA-6chw-6frg-f759  False  NaN   NaN   \n4714         []               acorn  GHSA-6chw-6frg-f759  False  NaN   NaN   \n\n               B          C   D  \n20    ['merged']         []  []  \n64    ['merged']         []  []  \n417   ['merged']         []  []  \n630   ['merged']         []  []  \n635   ['merged']         []  []  \n971   ['merged']         []  []  \n1089  ['merged']         []  []  \n1146  ['merged']  ['other']  []  \n1147  ['merged']  ['other']  []  \n1269  ['merged']         []  []  \n1495  ['merged']         []  []  \n1496  ['merged']         []  []  \n1497  ['merged']         []  []  \n1676  ['merged']         []  []  \n2017  ['merged']         []  []  \n2225  ['merged']         []  []  \n2402  ['merged']         []  []  \n2403  ['merged']         []  []  \n2404  ['merged']         []  []  \n2405  ['merged']         []  []  \n2406  ['merged']         []  []  \n2478  ['merged']         []  []  \n2484  ['merged']         []  []  \n2599  ['merged']         []  []  \n2731  ['merged']         []  []  \n2795  ['merged']         []  []  \n2839  ['merged']         []  []  \n2872  ['merged']         []  []  \n2873  ['merged']         []  []  \n2880  ['merged']         []  []  \n3100  ['merged']         []  []  \n3125  ['merged']         []  []  \n3231  ['merged']         []  []  \n3615  ['merged']         []  []  \n3805  ['merged']         []  []  \n3820  ['merged']         []  []  \n3821  ['merged']         []  []  \n3822  ['merged']         []  []  \n3823  ['merged']         []  []  \n3928  ['merged']         []  []  \n3952  ['merged']         []  []  \n4015  ['merged']         []  []  \n4071  ['merged']         []  []  \n4179  ['merged']         []  []  \n4198  ['merged']         []  []  \n4229  ['merged']         []  []  \n4354  ['merged']         []  []  \n4370  ['merged']         []  []  \n4371  ['merged']         []  []  \n4372  ['merged']         []  []  \n4373  ['merged']         []  []  \n4374  ['merged']         []  []  \n4375  ['merged']         []  []  \n4376  ['merged']         []  []  \n4451  ['merged']         []  []  \n4460  ['merged']         []  []  \n4683  ['merged']         []  []  \n4714  ['merged']         []  []  ",
      "text/html": "<div>\n<style scoped>\n    .dataframe tbody tr th:only-of-type {\n        vertical-align: middle;\n    }\n\n    .dataframe tbody tr th {\n        vertical-align: top;\n    }\n\n    .dataframe thead th {\n        text-align: right;\n    }\n</style>\n<table border=\"1\" class=\"dataframe\">\n  <thead>\n    <tr style=\"text-align: right;\">\n      <th></th>\n      <th>Unnamed: 0</th>\n      <th>case</th>\n      <th>repository</th>\n      <th>number</th>\n      <th>associated</th>\n      <th>package</th>\n      <th>ghsa</th>\n      <th>fixed</th>\n      <th>by</th>\n      <th>A</th>\n      <th>B</th>\n      <th>C</th>\n      <th>D</th>\n    </tr>\n  </thead>\n  <tbody>\n    <tr>\n      <th>20</th>\n      <td>20</td>\n      <td>20</td>\n      <td>ACM-UCI/ACM-UCI-Website</td>\n      <td>82</td>\n      <td>[]</td>\n      <td>acorn</td>\n      <td>GHSA-6chw-6frg-f759</td>\n      <td>False</td>\n      <td>NaN</td>\n      <td>NaN</td>\n      <td>['merged']</td>\n      <td>[]</td>\n      <td>[]</td>\n    </tr>\n    <tr>\n      <th>64</th>\n      <td>64</td>\n      <td>64</td>\n      <td>AlexsLemonade/refinebio-frontend</td>\n      <td>882</td>\n      <td>[]</td>\n      <td>acorn</td>\n      <td>GHSA-6chw-6frg-f759</td>\n      <td>False</td>\n      <td>NaN</td>\n      <td>NaN</td>\n      <td>['merged']</td>\n      <td>[]</td>\n      <td>[]</td>\n    </tr>\n    <tr>\n      <th>417</th>\n      <td>433</td>\n      <td>436</td>\n      <td>FUB-HCC/IKON-projektor</td>\n      <td>225</td>\n      <td>[]</td>\n      <td>acorn</td>\n      <td>GHSA-6chw-6frg-f759</td>\n      <td>False</td>\n      <td>NaN</td>\n      <td>NaN</td>\n      <td>['merged']</td>\n      <td>[]</td>\n      <td>[]</td>\n    </tr>\n    <tr>\n      <th>630</th>\n      <td>647</td>\n      <td>650</td>\n      <td>Integreat/integreat-react-native-app</td>\n      <td>223</td>\n      <td>[]</td>\n      <td>acorn</td>\n      <td>GHSA-6chw-6frg-f759</td>\n      <td>False</td>\n      <td>NaN</td>\n      <td>NaN</td>\n      <td>['merged']</td>\n      <td>[]</td>\n      <td>[]</td>\n    </tr>\n    <tr>\n      <th>635</th>\n      <td>652</td>\n      <td>655</td>\n      <td>Integreat/integreat-webapp</td>\n      <td>330</td>\n      <td>[]</td>\n      <td>acorn</td>\n      <td>GHSA-6chw-6frg-f759</td>\n      <td>False</td>\n      <td>NaN</td>\n      <td>NaN</td>\n      <td>['merged']</td>\n      <td>[]</td>\n      <td>[]</td>\n    </tr>\n    <tr>\n      <th>971</th>\n      <td>1002</td>\n      <td>1005</td>\n      <td>SofthouseVxo/Education</td>\n      <td>6</td>\n      <td>[]</td>\n      <td>acorn</td>\n      <td>GHSA-6chw-6frg-f759</td>\n      <td>False</td>\n      <td>NaN</td>\n      <td>NaN</td>\n      <td>['merged']</td>\n      <td>[]</td>\n      <td>[]</td>\n    </tr>\n    <tr>\n      <th>1089</th>\n      <td>1120</td>\n      <td>1123</td>\n      <td>Thorium-Sim/thorium</td>\n      <td>2842</td>\n      <td>[]</td>\n      <td>acorn</td>\n      <td>GHSA-6chw-6frg-f759</td>\n      <td>False</td>\n      <td>NaN</td>\n      <td>NaN</td>\n      <td>['merged']</td>\n      <td>[]</td>\n      <td>[]</td>\n    </tr>\n    <tr>\n      <th>1146</th>\n      <td>1177</td>\n      <td>1180</td>\n      <td>VizierDB/web-ui</td>\n      <td>132</td>\n      <td>[]</td>\n      <td>handlebars</td>\n      <td>GHSA-q42p-pg8m-cqh6</td>\n      <td>False</td>\n      <td>NaN</td>\n      <td>True</td>\n      <td>['merged']</td>\n      <td>['other']</td>\n      <td>[]</td>\n    </tr>\n    <tr>\n      <th>1147</th>\n      <td>1178</td>\n      <td>1181</td>\n      <td>VizierDB/web-ui</td>\n      <td>133</td>\n      <td>[]</td>\n      <td>webpack-dev-server</td>\n      <td>GHSA-cf66-xwfp-gvc4</td>\n      <td>False</td>\n      <td>NaN</td>\n      <td>True</td>\n      <td>['merged']</td>\n      <td>['other']</td>\n      <td>[]</td>\n    </tr>\n    <tr>\n      <th>1269</th>\n      <td>1300</td>\n      <td>1303</td>\n      <td>appbaseio/reactivesearch</td>\n      <td>1384</td>\n      <td>[]</td>\n      <td>acorn</td>\n      <td>GHSA-6chw-6frg-f759</td>\n      <td>False</td>\n      <td>NaN</td>\n      <td>NaN</td>\n      <td>['merged']</td>\n      <td>[]</td>\n      <td>[]</td>\n    </tr>\n    <tr>\n      <th>1495</th>\n      <td>1526</td>\n      <td>1530</td>\n      <td>brillout/wildcard-api</td>\n      <td>42</td>\n      <td>[]</td>\n      <td>acorn</td>\n      <td>GHSA-6chw-6frg-f759</td>\n      <td>False</td>\n      <td>NaN</td>\n      <td>NaN</td>\n      <td>['merged']</td>\n      <td>[]</td>\n      <td>[]</td>\n    </tr>\n    <tr>\n      <th>1496</th>\n      <td>1527</td>\n      <td>1531</td>\n      <td>brillout/wildcard-api</td>\n      <td>43</td>\n      <td>[]</td>\n      <td>acorn</td>\n      <td>GHSA-6chw-6frg-f759</td>\n      <td>False</td>\n      <td>NaN</td>\n      <td>NaN</td>\n      <td>['merged']</td>\n      <td>[]</td>\n      <td>[]</td>\n    </tr>\n    <tr>\n      <th>1497</th>\n      <td>1528</td>\n      <td>1532</td>\n      <td>brillout/wildcard-api</td>\n      <td>44</td>\n      <td>[]</td>\n      <td>acorn</td>\n      <td>GHSA-6chw-6frg-f759</td>\n      <td>False</td>\n      <td>NaN</td>\n      <td>NaN</td>\n      <td>['merged']</td>\n      <td>[]</td>\n      <td>[]</td>\n    </tr>\n    <tr>\n      <th>1676</th>\n      <td>1707</td>\n      <td>1711</td>\n      <td>codypearce/material-bread</td>\n      <td>377</td>\n      <td>[]</td>\n      <td>acorn</td>\n      <td>GHSA-6chw-6frg-f759</td>\n      <td>False</td>\n      <td>NaN</td>\n      <td>NaN</td>\n      <td>['merged']</td>\n      <td>[]</td>\n      <td>[]</td>\n    </tr>\n    <tr>\n      <th>2017</th>\n      <td>2058</td>\n      <td>2062</td>\n      <td>eggheadio/how-to-egghead</td>\n      <td>122</td>\n      <td>[]</td>\n      <td>acorn</td>\n      <td>GHSA-6chw-6frg-f759</td>\n      <td>False</td>\n      <td>NaN</td>\n      <td>NaN</td>\n      <td>['merged']</td>\n      <td>[]</td>\n      <td>[]</td>\n    </tr>\n    <tr>\n      <th>2225</th>\n      <td>2270</td>\n      <td>2277</td>\n      <td>flow-typed/flow-typed</td>\n      <td>3775</td>\n      <td>[]</td>\n      <td>acorn</td>\n      <td>GHSA-6chw-6frg-f759</td>\n      <td>False</td>\n      <td>NaN</td>\n      <td>NaN</td>\n      <td>['merged']</td>\n      <td>[]</td>\n      <td>[]</td>\n    </tr>\n    <tr>\n      <th>2402</th>\n      <td>2451</td>\n      <td>2460</td>\n      <td>gladly-team/tab</td>\n      <td>742</td>\n      <td>[]</td>\n      <td>acorn</td>\n      <td>GHSA-6chw-6frg-f759</td>\n      <td>False</td>\n      <td>NaN</td>\n      <td>NaN</td>\n      <td>['merged']</td>\n      <td>[]</td>\n      <td>[]</td>\n    </tr>\n    <tr>\n      <th>2403</th>\n      <td>2452</td>\n      <td>2461</td>\n      <td>gladly-team/tab</td>\n      <td>743</td>\n      <td>[]</td>\n      <td>acorn</td>\n      <td>GHSA-6chw-6frg-f759</td>\n      <td>False</td>\n      <td>NaN</td>\n      <td>NaN</td>\n      <td>['merged']</td>\n      <td>[]</td>\n      <td>[]</td>\n    </tr>\n    <tr>\n      <th>2404</th>\n      <td>2453</td>\n      <td>2462</td>\n      <td>gladly-team/tab</td>\n      <td>744</td>\n      <td>[]</td>\n      <td>acorn</td>\n      <td>GHSA-6chw-6frg-f759</td>\n      <td>False</td>\n      <td>NaN</td>\n      <td>NaN</td>\n      <td>['merged']</td>\n      <td>[]</td>\n      <td>[]</td>\n    </tr>\n    <tr>\n      <th>2405</th>\n      <td>2454</td>\n      <td>2463</td>\n      <td>gladly-team/tab</td>\n      <td>745</td>\n      <td>[]</td>\n      <td>acorn</td>\n      <td>GHSA-6chw-6frg-f759</td>\n      <td>False</td>\n      <td>NaN</td>\n      <td>NaN</td>\n      <td>['merged']</td>\n      <td>[]</td>\n      <td>[]</td>\n    </tr>\n    <tr>\n      <th>2406</th>\n      <td>2455</td>\n      <td>2464</td>\n      <td>gladly-team/tab</td>\n      <td>746</td>\n      <td>[]</td>\n      <td>acorn</td>\n      <td>GHSA-6chw-6frg-f759</td>\n      <td>False</td>\n      <td>NaN</td>\n      <td>NaN</td>\n      <td>['merged']</td>\n      <td>[]</td>\n      <td>[]</td>\n    </tr>\n    <tr>\n      <th>2478</th>\n      <td>2527</td>\n      <td>2536</td>\n      <td>guardian/facia-tool</td>\n      <td>1206</td>\n      <td>[]</td>\n      <td>acorn</td>\n      <td>GHSA-6chw-6frg-f759</td>\n      <td>False</td>\n      <td>NaN</td>\n      <td>NaN</td>\n      <td>['merged']</td>\n      <td>[]</td>\n      <td>[]</td>\n    </tr>\n    <tr>\n      <th>2484</th>\n      <td>2533</td>\n      <td>2542</td>\n      <td>guidokessels/xwing-data2</td>\n      <td>346</td>\n      <td>[]</td>\n      <td>acorn</td>\n      <td>GHSA-6chw-6frg-f759</td>\n      <td>False</td>\n      <td>NaN</td>\n      <td>NaN</td>\n      <td>['merged']</td>\n      <td>[]</td>\n      <td>[]</td>\n    </tr>\n    <tr>\n      <th>2599</th>\n      <td>2661</td>\n      <td>2671</td>\n      <td>immerjs/immer</td>\n      <td>552</td>\n      <td>[]</td>\n      <td>acorn</td>\n      <td>GHSA-6chw-6frg-f759</td>\n      <td>False</td>\n      <td>NaN</td>\n      <td>NaN</td>\n      <td>['merged']</td>\n      <td>[]</td>\n      <td>[]</td>\n    </tr>\n    <tr>\n      <th>2731</th>\n      <td>2793</td>\n      <td>2805</td>\n      <td>jaegertracing/jaeger-ui</td>\n      <td>545</td>\n      <td>[]</td>\n      <td>acorn</td>\n      <td>GHSA-6chw-6frg-f759</td>\n      <td>False</td>\n      <td>NaN</td>\n      <td>NaN</td>\n      <td>['merged']</td>\n      <td>[]</td>\n      <td>[]</td>\n    </tr>\n    <tr>\n      <th>2795</th>\n      <td>2857</td>\n      <td>2870</td>\n      <td>jquense/react-big-calendar</td>\n      <td>1653</td>\n      <td>[]</td>\n      <td>acorn</td>\n      <td>GHSA-6chw-6frg-f759</td>\n      <td>False</td>\n      <td>NaN</td>\n      <td>NaN</td>\n      <td>['merged']</td>\n      <td>[]</td>\n      <td>[]</td>\n    </tr>\n    <tr>\n      <th>2839</th>\n      <td>2901</td>\n      <td>2914</td>\n      <td>keyboardio/Chrysalis</td>\n      <td>488</td>\n      <td>[]</td>\n      <td>acorn</td>\n      <td>GHSA-6chw-6frg-f759</td>\n      <td>False</td>\n      <td>NaN</td>\n      <td>NaN</td>\n      <td>['merged']</td>\n      <td>[]</td>\n      <td>[]</td>\n    </tr>\n    <tr>\n      <th>2872</th>\n      <td>2934</td>\n      <td>2947</td>\n      <td>kubesphere/docs.kubesphere.io</td>\n      <td>684</td>\n      <td>[]</td>\n      <td>acorn</td>\n      <td>GHSA-6chw-6frg-f759</td>\n      <td>False</td>\n      <td>NaN</td>\n      <td>NaN</td>\n      <td>['merged']</td>\n      <td>[]</td>\n      <td>[]</td>\n    </tr>\n    <tr>\n      <th>2873</th>\n      <td>2935</td>\n      <td>2948</td>\n      <td>kubesphere/docs.kubesphere.io</td>\n      <td>702</td>\n      <td>[]</td>\n      <td>acorn</td>\n      <td>GHSA-6chw-6frg-f759</td>\n      <td>False</td>\n      <td>NaN</td>\n      <td>NaN</td>\n      <td>['merged']</td>\n      <td>[]</td>\n      <td>[]</td>\n    </tr>\n    <tr>\n      <th>2880</th>\n      <td>2942</td>\n      <td>2955</td>\n      <td>kubesphere/ks-website</td>\n      <td>154</td>\n      <td>[]</td>\n      <td>acorn</td>\n      <td>GHSA-6chw-6frg-f759</td>\n      <td>False</td>\n      <td>NaN</td>\n      <td>NaN</td>\n      <td>['merged']</td>\n      <td>[]</td>\n      <td>[]</td>\n    </tr>\n    <tr>\n      <th>3100</th>\n      <td>3162</td>\n      <td>3175</td>\n      <td>magento/pwa-studio</td>\n      <td>2312</td>\n      <td>[]</td>\n      <td>acorn</td>\n      <td>GHSA-6chw-6frg-f759</td>\n      <td>False</td>\n      <td>NaN</td>\n      <td>NaN</td>\n      <td>['merged']</td>\n      <td>[]</td>\n      <td>[]</td>\n    </tr>\n    <tr>\n      <th>3125</th>\n      <td>3187</td>\n      <td>3200</td>\n      <td>makerdao/governance-portal</td>\n      <td>167</td>\n      <td>[]</td>\n      <td>acorn</td>\n      <td>GHSA-6chw-6frg-f759</td>\n      <td>False</td>\n      <td>NaN</td>\n      <td>NaN</td>\n      <td>['merged']</td>\n      <td>[]</td>\n      <td>[]</td>\n    </tr>\n    <tr>\n      <th>3231</th>\n      <td>3293</td>\n      <td>3306</td>\n      <td>mermaid-js/mermaid</td>\n      <td>1307</td>\n      <td>[]</td>\n      <td>acorn</td>\n      <td>GHSA-6chw-6frg-f759</td>\n      <td>False</td>\n      <td>NaN</td>\n      <td>NaN</td>\n      <td>['merged']</td>\n      <td>[]</td>\n      <td>[]</td>\n    </tr>\n    <tr>\n      <th>3615</th>\n      <td>3679</td>\n      <td>3693</td>\n      <td>osmlab/maproulette3</td>\n      <td>1169</td>\n      <td>[]</td>\n      <td>acorn</td>\n      <td>GHSA-6chw-6frg-f759</td>\n      <td>False</td>\n      <td>NaN</td>\n      <td>NaN</td>\n      <td>['merged']</td>\n      <td>[]</td>\n      <td>[]</td>\n    </tr>\n    <tr>\n      <th>3805</th>\n      <td>3872</td>\n      <td>3906</td>\n      <td>prescottprue/react-redux-firebase</td>\n      <td>798</td>\n      <td>[]</td>\n      <td>ws</td>\n      <td>GHSA-5v72-xg48-5rpm</td>\n      <td>False</td>\n      <td>NaN</td>\n      <td>NaN</td>\n      <td>['merged']</td>\n      <td>[]</td>\n      <td>[]</td>\n    </tr>\n    <tr>\n      <th>3820</th>\n      <td>3887</td>\n      <td>3921</td>\n      <td>prescottprue/react-redux-firebase</td>\n      <td>881</td>\n      <td>[]</td>\n      <td>acorn</td>\n      <td>GHSA-6chw-6frg-f759</td>\n      <td>False</td>\n      <td>NaN</td>\n      <td>NaN</td>\n      <td>['merged']</td>\n      <td>[]</td>\n      <td>[]</td>\n    </tr>\n    <tr>\n      <th>3821</th>\n      <td>3888</td>\n      <td>3922</td>\n      <td>prescottprue/react-redux-firebase</td>\n      <td>882</td>\n      <td>[]</td>\n      <td>acorn</td>\n      <td>GHSA-6chw-6frg-f759</td>\n      <td>False</td>\n      <td>NaN</td>\n      <td>NaN</td>\n      <td>['merged']</td>\n      <td>[]</td>\n      <td>[]</td>\n    </tr>\n    <tr>\n      <th>3822</th>\n      <td>3889</td>\n      <td>3923</td>\n      <td>prescottprue/react-redux-firebase</td>\n      <td>902</td>\n      <td>[]</td>\n      <td>acorn</td>\n      <td>GHSA-6chw-6frg-f759</td>\n      <td>False</td>\n      <td>NaN</td>\n      <td>NaN</td>\n      <td>['merged']</td>\n      <td>[]</td>\n      <td>[]</td>\n    </tr>\n    <tr>\n      <th>3823</th>\n      <td>3890</td>\n      <td>3924</td>\n      <td>prescottprue/react-redux-firebase</td>\n      <td>903</td>\n      <td>[]</td>\n      <td>acorn</td>\n      <td>GHSA-6chw-6frg-f759</td>\n      <td>False</td>\n      <td>NaN</td>\n      <td>NaN</td>\n      <td>['merged']</td>\n      <td>[]</td>\n      <td>[]</td>\n    </tr>\n    <tr>\n      <th>3928</th>\n      <td>3995</td>\n      <td>4029</td>\n      <td>react-atomic/react-atomic-organism</td>\n      <td>12</td>\n      <td>[12, 145]</td>\n      <td>acorn</td>\n      <td>GHSA-6chw-6frg-f759</td>\n      <td>False</td>\n      <td>NaN</td>\n      <td>NaN</td>\n      <td>['merged']</td>\n      <td>[]</td>\n      <td>[]</td>\n    </tr>\n    <tr>\n      <th>3952</th>\n      <td>4019</td>\n      <td>4053</td>\n      <td>react-native-tvos/react-native-tvos</td>\n      <td>53</td>\n      <td>[]</td>\n      <td>acorn</td>\n      <td>GHSA-6chw-6frg-f759</td>\n      <td>False</td>\n      <td>NaN</td>\n      <td>NaN</td>\n      <td>['merged']</td>\n      <td>[]</td>\n      <td>[]</td>\n    </tr>\n    <tr>\n      <th>4015</th>\n      <td>4082</td>\n      <td>4116</td>\n      <td>replicatedhq/kotsadm</td>\n      <td>1245</td>\n      <td>[]</td>\n      <td>acorn</td>\n      <td>GHSA-6chw-6frg-f759</td>\n      <td>False</td>\n      <td>NaN</td>\n      <td>NaN</td>\n      <td>['merged']</td>\n      <td>[]</td>\n      <td>[]</td>\n    </tr>\n    <tr>\n      <th>4071</th>\n      <td>4138</td>\n      <td>4172</td>\n      <td>samtecspg/articulate</td>\n      <td>995</td>\n      <td>[]</td>\n      <td>acorn</td>\n      <td>GHSA-6chw-6frg-f759</td>\n      <td>False</td>\n      <td>NaN</td>\n      <td>NaN</td>\n      <td>['merged']</td>\n      <td>[]</td>\n      <td>[]</td>\n    </tr>\n    <tr>\n      <th>4179</th>\n      <td>4246</td>\n      <td>4280</td>\n      <td>sheinsight/shineout</td>\n      <td>569</td>\n      <td>[]</td>\n      <td>acorn</td>\n      <td>GHSA-6chw-6frg-f759</td>\n      <td>False</td>\n      <td>NaN</td>\n      <td>NaN</td>\n      <td>['merged']</td>\n      <td>[]</td>\n      <td>[]</td>\n    </tr>\n    <tr>\n      <th>4198</th>\n      <td>4265</td>\n      <td>4299</td>\n      <td>single-spa/single-spa</td>\n      <td>479</td>\n      <td>[]</td>\n      <td>acorn</td>\n      <td>GHSA-6chw-6frg-f759</td>\n      <td>False</td>\n      <td>NaN</td>\n      <td>NaN</td>\n      <td>['merged']</td>\n      <td>[]</td>\n      <td>[]</td>\n    </tr>\n    <tr>\n      <th>4229</th>\n      <td>4296</td>\n      <td>4330</td>\n      <td>software-mansion/react-native-reanimated</td>\n      <td>653</td>\n      <td>[]</td>\n      <td>acorn</td>\n      <td>GHSA-6chw-6frg-f759</td>\n      <td>False</td>\n      <td>NaN</td>\n      <td>NaN</td>\n      <td>['merged']</td>\n      <td>[]</td>\n      <td>[]</td>\n    </tr>\n    <tr>\n      <th>4354</th>\n      <td>4423</td>\n      <td>4457</td>\n      <td>tacoinfra/developers.tezos.com</td>\n      <td>44</td>\n      <td>[]</td>\n      <td>acorn</td>\n      <td>GHSA-6chw-6frg-f759</td>\n      <td>False</td>\n      <td>NaN</td>\n      <td>NaN</td>\n      <td>['merged']</td>\n      <td>[]</td>\n      <td>[]</td>\n    </tr>\n    <tr>\n      <th>4370</th>\n      <td>4439</td>\n      <td>4473</td>\n      <td>tannerlinsley/react-table</td>\n      <td>1997</td>\n      <td>[]</td>\n      <td>acorn</td>\n      <td>GHSA-6chw-6frg-f759</td>\n      <td>False</td>\n      <td>NaN</td>\n      <td>NaN</td>\n      <td>['merged']</td>\n      <td>[]</td>\n      <td>[]</td>\n    </tr>\n    <tr>\n      <th>4371</th>\n      <td>4440</td>\n      <td>4474</td>\n      <td>tannerlinsley/react-table</td>\n      <td>2002</td>\n      <td>[]</td>\n      <td>acorn</td>\n      <td>GHSA-6chw-6frg-f759</td>\n      <td>False</td>\n      <td>NaN</td>\n      <td>NaN</td>\n      <td>['merged']</td>\n      <td>[]</td>\n      <td>[]</td>\n    </tr>\n    <tr>\n      <th>4372</th>\n      <td>4441</td>\n      <td>4475</td>\n      <td>tannerlinsley/react-table</td>\n      <td>2019</td>\n      <td>[]</td>\n      <td>acorn</td>\n      <td>GHSA-6chw-6frg-f759</td>\n      <td>False</td>\n      <td>NaN</td>\n      <td>NaN</td>\n      <td>['merged']</td>\n      <td>[]</td>\n      <td>[]</td>\n    </tr>\n    <tr>\n      <th>4373</th>\n      <td>4442</td>\n      <td>4476</td>\n      <td>tannerlinsley/react-table</td>\n      <td>2020</td>\n      <td>[]</td>\n      <td>acorn</td>\n      <td>GHSA-6chw-6frg-f759</td>\n      <td>False</td>\n      <td>NaN</td>\n      <td>NaN</td>\n      <td>['merged']</td>\n      <td>[]</td>\n      <td>[]</td>\n    </tr>\n    <tr>\n      <th>4374</th>\n      <td>4443</td>\n      <td>4477</td>\n      <td>tannerlinsley/react-table</td>\n      <td>2054</td>\n      <td>[]</td>\n      <td>acorn</td>\n      <td>GHSA-6chw-6frg-f759</td>\n      <td>False</td>\n      <td>NaN</td>\n      <td>NaN</td>\n      <td>['merged']</td>\n      <td>[]</td>\n      <td>[]</td>\n    </tr>\n    <tr>\n      <th>4375</th>\n      <td>4444</td>\n      <td>4478</td>\n      <td>tannerlinsley/react-table</td>\n      <td>2103</td>\n      <td>[]</td>\n      <td>acorn</td>\n      <td>GHSA-6chw-6frg-f759</td>\n      <td>False</td>\n      <td>NaN</td>\n      <td>NaN</td>\n      <td>['merged']</td>\n      <td>[]</td>\n      <td>[]</td>\n    </tr>\n    <tr>\n      <th>4376</th>\n      <td>4445</td>\n      <td>4479</td>\n      <td>tannerlinsley/react-table</td>\n      <td>2105</td>\n      <td>[]</td>\n      <td>acorn</td>\n      <td>GHSA-6chw-6frg-f759</td>\n      <td>False</td>\n      <td>NaN</td>\n      <td>NaN</td>\n      <td>['merged']</td>\n      <td>[]</td>\n      <td>[]</td>\n    </tr>\n    <tr>\n      <th>4451</th>\n      <td>4523</td>\n      <td>4558</td>\n      <td>tidepool-org/blip</td>\n      <td>675</td>\n      <td>[]</td>\n      <td>acorn</td>\n      <td>GHSA-6chw-6frg-f759</td>\n      <td>False</td>\n      <td>NaN</td>\n      <td>NaN</td>\n      <td>['merged']</td>\n      <td>[]</td>\n      <td>[]</td>\n    </tr>\n    <tr>\n      <th>4460</th>\n      <td>4532</td>\n      <td>4567</td>\n      <td>tidepool-org/viz</td>\n      <td>191</td>\n      <td>[]</td>\n      <td>acorn</td>\n      <td>GHSA-6chw-6frg-f759</td>\n      <td>False</td>\n      <td>NaN</td>\n      <td>NaN</td>\n      <td>['merged']</td>\n      <td>[]</td>\n      <td>[]</td>\n    </tr>\n    <tr>\n      <th>4683</th>\n      <td>4755</td>\n      <td>4790</td>\n      <td>vercel/docs</td>\n      <td>1716</td>\n      <td>[]</td>\n      <td>acorn</td>\n      <td>GHSA-6chw-6frg-f759</td>\n      <td>False</td>\n      <td>NaN</td>\n      <td>NaN</td>\n      <td>['merged']</td>\n      <td>[]</td>\n      <td>[]</td>\n    </tr>\n    <tr>\n      <th>4714</th>\n      <td>4786</td>\n      <td>4821</td>\n      <td>vtex-apps/store</td>\n      <td>438</td>\n      <td>[]</td>\n      <td>acorn</td>\n      <td>GHSA-6chw-6frg-f759</td>\n      <td>False</td>\n      <td>NaN</td>\n      <td>NaN</td>\n      <td>['merged']</td>\n      <td>[]</td>\n      <td>[]</td>\n    </tr>\n  </tbody>\n</table>\n</div>"
     },
     "execution_count": 9,
     "metadata": {},
     "output_type": "execute_result"
    }
   ],
   "source": [
    "fixes[(fixes['fixed']==False) & (fixes['B'].str.find('[\\'merged\\']')>=0)]"
   ],
   "metadata": {
    "collapsed": false
   }
  },
  {
   "cell_type": "code",
   "execution_count": 10,
   "metadata": {},
   "outputs": [
    {
     "data": {
      "text/plain": "      by  case  case_perc\n0    bot  2662  63.852243\n1  human  1507  36.147757",
      "text/html": "<div>\n<style scoped>\n    .dataframe tbody tr th:only-of-type {\n        vertical-align: middle;\n    }\n\n    .dataframe tbody tr th {\n        vertical-align: top;\n    }\n\n    .dataframe thead th {\n        text-align: right;\n    }\n</style>\n<table border=\"1\" class=\"dataframe\">\n  <thead>\n    <tr style=\"text-align: right;\">\n      <th></th>\n      <th>by</th>\n      <th>case</th>\n      <th>case_perc</th>\n    </tr>\n  </thead>\n  <tbody>\n    <tr>\n      <th>0</th>\n      <td>bot</td>\n      <td>2662</td>\n      <td>63.852243</td>\n    </tr>\n    <tr>\n      <th>1</th>\n      <td>human</td>\n      <td>1507</td>\n      <td>36.147757</td>\n    </tr>\n  </tbody>\n</table>\n</div>"
     },
     "execution_count": 10,
     "metadata": {},
     "output_type": "execute_result"
    }
   ],
   "source": [
    "#Statistics of all vulnerabilities\n",
    "statisticsgrouped3 = fixes[(fixes['by']!='') & (fixes['fixed']==True)]\n",
    "statisticsgrouped3 = statisticsgrouped3.groupby(by=['by'])['case'].count().reset_index()\n",
    "statisticsgrouped3['case_perc'] = (statisticsgrouped3['case'] / statisticsgrouped3.case.sum())*100\n",
    "statisticsgrouped3"
   ]
  },
  {
   "cell_type": "code",
   "execution_count": 11,
   "metadata": {},
   "outputs": [
    {
     "data": {
      "text/plain": "  fixed by  case  case_perc\n0            809  16.251507\n1      bot  2662  53.475291\n2    human  1507  30.273202",
      "text/html": "<div>\n<style scoped>\n    .dataframe tbody tr th:only-of-type {\n        vertical-align: middle;\n    }\n\n    .dataframe tbody tr th {\n        vertical-align: top;\n    }\n\n    .dataframe thead th {\n        text-align: right;\n    }\n</style>\n<table border=\"1\" class=\"dataframe\">\n  <thead>\n    <tr style=\"text-align: right;\">\n      <th></th>\n      <th>fixed by</th>\n      <th>case</th>\n      <th>case_perc</th>\n    </tr>\n  </thead>\n  <tbody>\n    <tr>\n      <th>0</th>\n      <td></td>\n      <td>809</td>\n      <td>16.251507</td>\n    </tr>\n    <tr>\n      <th>1</th>\n      <td>bot</td>\n      <td>2662</td>\n      <td>53.475291</td>\n    </tr>\n    <tr>\n      <th>2</th>\n      <td>human</td>\n      <td>1507</td>\n      <td>30.273202</td>\n    </tr>\n  </tbody>\n</table>\n</div>"
     },
     "execution_count": 11,
     "metadata": {},
     "output_type": "execute_result"
    }
   ],
   "source": [
    "pd.merge(\n",
    "    statisticsgrouped2.groupby('by')['case'].sum().reset_index(),\n",
    "    statisticsgrouped2.groupby('by')['case_perc'].sum().reset_index(),\n",
    "    on='by',\n",
    "    how='inner'\n",
    ").rename(columns={'by':'fixed by'})"
   ]
  },
  {
   "cell_type": "markdown",
   "metadata": {},
   "source": [
    "## Project-level Analysis"
   ]
  },
  {
   "cell_type": "code",
   "execution_count": 12,
   "metadata": {
    "scrolled": true
   },
   "outputs": [
    {
     "data": {
      "text/plain": "                      repository  number category\n0                 11ways/hawkejs       1    [1,2]\n1          18F/fedramp-dashboard       3    [3,4]\n2              2600hz/monster-ui       1    [1,2]\n3  30-seconds/30-seconds-of-code       8   [5,10]\n4        ACM-UCI/ACM-UCI-Website       9   [5,10]",
      "text/html": "<div>\n<style scoped>\n    .dataframe tbody tr th:only-of-type {\n        vertical-align: middle;\n    }\n\n    .dataframe tbody tr th {\n        vertical-align: top;\n    }\n\n    .dataframe thead th {\n        text-align: right;\n    }\n</style>\n<table border=\"1\" class=\"dataframe\">\n  <thead>\n    <tr style=\"text-align: right;\">\n      <th></th>\n      <th>repository</th>\n      <th>number</th>\n      <th>category</th>\n    </tr>\n  </thead>\n  <tbody>\n    <tr>\n      <th>0</th>\n      <td>11ways/hawkejs</td>\n      <td>1</td>\n      <td>[1,2]</td>\n    </tr>\n    <tr>\n      <th>1</th>\n      <td>18F/fedramp-dashboard</td>\n      <td>3</td>\n      <td>[3,4]</td>\n    </tr>\n    <tr>\n      <th>2</th>\n      <td>2600hz/monster-ui</td>\n      <td>1</td>\n      <td>[1,2]</td>\n    </tr>\n    <tr>\n      <th>3</th>\n      <td>30-seconds/30-seconds-of-code</td>\n      <td>8</td>\n      <td>[5,10]</td>\n    </tr>\n    <tr>\n      <th>4</th>\n      <td>ACM-UCI/ACM-UCI-Website</td>\n      <td>9</td>\n      <td>[5,10]</td>\n    </tr>\n  </tbody>\n</table>\n</div>"
     },
     "execution_count": 12,
     "metadata": {},
     "output_type": "execute_result"
    }
   ],
   "source": [
    "prs_per_project = pr_vuln.groupby('repository')['number'].count().reset_index()\n",
    "\n",
    "def get_category(num):\n",
    "    if num>=1 and num<=2:\n",
    "        return '[1,2]'\n",
    "    elif num>=3 and num<=4:\n",
    "        return '[3,4]'\n",
    "    elif num>=5 and num<=10:\n",
    "        return '[5,10]'\n",
    "    elif num>=11 and num<=67:\n",
    "        return '[11,67]'\n",
    "    \n",
    "prs_per_project['category'] = prs_per_project.apply(lambda x: get_category(x['number']), axis=1)\n",
    "\n",
    "prs_per_project.head()"
   ]
  },
  {
   "cell_type": "code",
   "execution_count": 13,
   "metadata": {},
   "outputs": [
    {
     "data": {
      "text/plain": "962"
     },
     "execution_count": 13,
     "metadata": {},
     "output_type": "execute_result"
    }
   ],
   "source": [
    "len(prs_per_project)"
   ]
  },
  {
   "cell_type": "code",
   "execution_count": 14,
   "metadata": {},
   "outputs": [
    {
     "data": {
      "text/plain": "978"
     },
     "execution_count": 14,
     "metadata": {},
     "output_type": "execute_result"
    }
   ],
   "source": [
    "len(fixes.repository.unique())"
   ]
  },
  {
   "cell_type": "code",
   "execution_count": 15,
   "metadata": {},
   "outputs": [
    {
     "data": {
      "text/plain": "4195"
     },
     "execution_count": 15,
     "metadata": {},
     "output_type": "execute_result"
    }
   ],
   "source": [
    "len(pr_vuln)"
   ]
  },
  {
   "cell_type": "code",
   "execution_count": 16,
   "metadata": {},
   "outputs": [
    {
     "data": {
      "text/plain": "array([ True, False])"
     },
     "execution_count": 16,
     "metadata": {},
     "output_type": "execute_result"
    }
   ],
   "source": [
    "fixes.fixed.unique()"
   ]
  },
  {
   "cell_type": "code",
   "execution_count": 17,
   "metadata": {
    "scrolled": true
   },
   "outputs": [
    {
     "data": {
      "text/plain": "      Unnamed: 0                   repository  number  \\\n0              0           b2wads/grimorio-ui      74   \n4              4  idena-network/idena-desktop      35   \n5              5  idena-network/idena-desktop      36   \n7              7  idena-network/idena-desktop     215   \n8              8             rand256/valetudo       7   \n...          ...                          ...     ...   \n4411        4479                 GMOD/jbrowse    1436   \n4412        4480                 GMOD/jbrowse    1468   \n4413        4481                 GMOD/jbrowse    1470   \n4414        4482                 GMOD/jbrowse    1481   \n4415        4483                 GMOD/jbrowse    1482   \n\n                                                    url                  date  \\\n0         https://github.com/b2wads/grimorio-ui/pull/74  2019-10-10T19:21:58Z   \n4     https://github.com/idena-network/idena-desktop...  2019-09-11T10:02:08Z   \n5     https://github.com/idena-network/idena-desktop...  2019-09-11T10:02:13Z   \n7     https://github.com/idena-network/idena-desktop...  2020-03-31T12:14:36Z   \n8            https://github.com/rand256/valetudo/pull/7  2019-07-13T13:49:01Z   \n...                                                 ...                   ...   \n4411          https://github.com/GMOD/jbrowse/pull/1436  2019-10-14T14:46:39Z   \n4412          https://github.com/GMOD/jbrowse/pull/1468  2020-02-13T22:21:45Z   \n4413          https://github.com/GMOD/jbrowse/pull/1470  2020-02-14T23:40:19Z   \n4414          https://github.com/GMOD/jbrowse/pull/1481  2020-03-10T18:06:20Z   \n4415          https://github.com/GMOD/jbrowse/pull/1482  2020-03-10T18:06:21Z   \n\n       state                  package    from      to  \\\n0     CLOSED  webpack-bundle-analyzer   3.0.3   3.3.2   \n4     CLOSED               mixin-deep   1.3.1   1.3.2   \n5     CLOSED             eslint-utils   1.3.1   1.4.2   \n7     CLOSED                     next   9.3.1   9.3.2   \n8     CLOSED              mqtt-packet   5.6.0   5.6.1   \n...      ...                      ...     ...     ...   \n4411  CLOSED               mixin-deep   1.3.1   1.3.2   \n4412  CLOSED                    dojox  1.16.0  1.16.1   \n4413  CLOSED                     yarn  1.21.1  1.22.0   \n4414  CLOSED                    dojox  1.16.0  1.16.2   \n4415  CLOSED                     dojo  1.16.0  1.16.2   \n\n                                     vulnerabilities      severities  \\\n0                            ['GHSA-pgr8-jg6h-8gw6']    ['MODERATE']   \n4                            ['GHSA-fhjf-83wg-r2j9']        ['HIGH']   \n5                            ['GHSA-3gx7-xhv7-5mx3']    ['CRITICAL']   \n7                            ['GHSA-fq77-7p7r-83rj']    ['MODERATE']   \n8                            ['GHSA-wv67-9jq7-8r69']        ['HIGH']   \n...                                              ...             ...   \n4411                         ['GHSA-fhjf-83wg-r2j9']        ['HIGH']   \n4412                         ['GHSA-pg97-ww7h-5mjr']         ['LOW']   \n4413                         ['GHSA-5xf4-f2fq-f69j']    ['MODERATE']   \n4414  ['GHSA-3hw5-q855-g6cw', 'GHSA-pg97-ww7h-5mjr']  ['LOW', 'LOW']   \n4415                         ['GHSA-jxfh-8wgv-vfr2']        ['HIGH']   \n\n     maximal_severity  \n0            MODERATE  \n4                HIGH  \n5            CRITICAL  \n7            MODERATE  \n8                HIGH  \n...               ...  \n4411             HIGH  \n4412              LOW  \n4413         MODERATE  \n4414              LOW  \n4415             HIGH  \n\n[1804 rows x 12 columns]",
      "text/html": "<div>\n<style scoped>\n    .dataframe tbody tr th:only-of-type {\n        vertical-align: middle;\n    }\n\n    .dataframe tbody tr th {\n        vertical-align: top;\n    }\n\n    .dataframe thead th {\n        text-align: right;\n    }\n</style>\n<table border=\"1\" class=\"dataframe\">\n  <thead>\n    <tr style=\"text-align: right;\">\n      <th></th>\n      <th>Unnamed: 0</th>\n      <th>repository</th>\n      <th>number</th>\n      <th>url</th>\n      <th>date</th>\n      <th>state</th>\n      <th>package</th>\n      <th>from</th>\n      <th>to</th>\n      <th>vulnerabilities</th>\n      <th>severities</th>\n      <th>maximal_severity</th>\n    </tr>\n  </thead>\n  <tbody>\n    <tr>\n      <th>0</th>\n      <td>0</td>\n      <td>b2wads/grimorio-ui</td>\n      <td>74</td>\n      <td>https://github.com/b2wads/grimorio-ui/pull/74</td>\n      <td>2019-10-10T19:21:58Z</td>\n      <td>CLOSED</td>\n      <td>webpack-bundle-analyzer</td>\n      <td>3.0.3</td>\n      <td>3.3.2</td>\n      <td>['GHSA-pgr8-jg6h-8gw6']</td>\n      <td>['MODERATE']</td>\n      <td>MODERATE</td>\n    </tr>\n    <tr>\n      <th>4</th>\n      <td>4</td>\n      <td>idena-network/idena-desktop</td>\n      <td>35</td>\n      <td>https://github.com/idena-network/idena-desktop...</td>\n      <td>2019-09-11T10:02:08Z</td>\n      <td>CLOSED</td>\n      <td>mixin-deep</td>\n      <td>1.3.1</td>\n      <td>1.3.2</td>\n      <td>['GHSA-fhjf-83wg-r2j9']</td>\n      <td>['HIGH']</td>\n      <td>HIGH</td>\n    </tr>\n    <tr>\n      <th>5</th>\n      <td>5</td>\n      <td>idena-network/idena-desktop</td>\n      <td>36</td>\n      <td>https://github.com/idena-network/idena-desktop...</td>\n      <td>2019-09-11T10:02:13Z</td>\n      <td>CLOSED</td>\n      <td>eslint-utils</td>\n      <td>1.3.1</td>\n      <td>1.4.2</td>\n      <td>['GHSA-3gx7-xhv7-5mx3']</td>\n      <td>['CRITICAL']</td>\n      <td>CRITICAL</td>\n    </tr>\n    <tr>\n      <th>7</th>\n      <td>7</td>\n      <td>idena-network/idena-desktop</td>\n      <td>215</td>\n      <td>https://github.com/idena-network/idena-desktop...</td>\n      <td>2020-03-31T12:14:36Z</td>\n      <td>CLOSED</td>\n      <td>next</td>\n      <td>9.3.1</td>\n      <td>9.3.2</td>\n      <td>['GHSA-fq77-7p7r-83rj']</td>\n      <td>['MODERATE']</td>\n      <td>MODERATE</td>\n    </tr>\n    <tr>\n      <th>8</th>\n      <td>8</td>\n      <td>rand256/valetudo</td>\n      <td>7</td>\n      <td>https://github.com/rand256/valetudo/pull/7</td>\n      <td>2019-07-13T13:49:01Z</td>\n      <td>CLOSED</td>\n      <td>mqtt-packet</td>\n      <td>5.6.0</td>\n      <td>5.6.1</td>\n      <td>['GHSA-wv67-9jq7-8r69']</td>\n      <td>['HIGH']</td>\n      <td>HIGH</td>\n    </tr>\n    <tr>\n      <th>...</th>\n      <td>...</td>\n      <td>...</td>\n      <td>...</td>\n      <td>...</td>\n      <td>...</td>\n      <td>...</td>\n      <td>...</td>\n      <td>...</td>\n      <td>...</td>\n      <td>...</td>\n      <td>...</td>\n      <td>...</td>\n    </tr>\n    <tr>\n      <th>4411</th>\n      <td>4479</td>\n      <td>GMOD/jbrowse</td>\n      <td>1436</td>\n      <td>https://github.com/GMOD/jbrowse/pull/1436</td>\n      <td>2019-10-14T14:46:39Z</td>\n      <td>CLOSED</td>\n      <td>mixin-deep</td>\n      <td>1.3.1</td>\n      <td>1.3.2</td>\n      <td>['GHSA-fhjf-83wg-r2j9']</td>\n      <td>['HIGH']</td>\n      <td>HIGH</td>\n    </tr>\n    <tr>\n      <th>4412</th>\n      <td>4480</td>\n      <td>GMOD/jbrowse</td>\n      <td>1468</td>\n      <td>https://github.com/GMOD/jbrowse/pull/1468</td>\n      <td>2020-02-13T22:21:45Z</td>\n      <td>CLOSED</td>\n      <td>dojox</td>\n      <td>1.16.0</td>\n      <td>1.16.1</td>\n      <td>['GHSA-pg97-ww7h-5mjr']</td>\n      <td>['LOW']</td>\n      <td>LOW</td>\n    </tr>\n    <tr>\n      <th>4413</th>\n      <td>4481</td>\n      <td>GMOD/jbrowse</td>\n      <td>1470</td>\n      <td>https://github.com/GMOD/jbrowse/pull/1470</td>\n      <td>2020-02-14T23:40:19Z</td>\n      <td>CLOSED</td>\n      <td>yarn</td>\n      <td>1.21.1</td>\n      <td>1.22.0</td>\n      <td>['GHSA-5xf4-f2fq-f69j']</td>\n      <td>['MODERATE']</td>\n      <td>MODERATE</td>\n    </tr>\n    <tr>\n      <th>4414</th>\n      <td>4482</td>\n      <td>GMOD/jbrowse</td>\n      <td>1481</td>\n      <td>https://github.com/GMOD/jbrowse/pull/1481</td>\n      <td>2020-03-10T18:06:20Z</td>\n      <td>CLOSED</td>\n      <td>dojox</td>\n      <td>1.16.0</td>\n      <td>1.16.2</td>\n      <td>['GHSA-3hw5-q855-g6cw', 'GHSA-pg97-ww7h-5mjr']</td>\n      <td>['LOW', 'LOW']</td>\n      <td>LOW</td>\n    </tr>\n    <tr>\n      <th>4415</th>\n      <td>4483</td>\n      <td>GMOD/jbrowse</td>\n      <td>1482</td>\n      <td>https://github.com/GMOD/jbrowse/pull/1482</td>\n      <td>2020-03-10T18:06:21Z</td>\n      <td>CLOSED</td>\n      <td>dojo</td>\n      <td>1.16.0</td>\n      <td>1.16.2</td>\n      <td>['GHSA-jxfh-8wgv-vfr2']</td>\n      <td>['HIGH']</td>\n      <td>HIGH</td>\n    </tr>\n  </tbody>\n</table>\n<p>1804 rows × 12 columns</p>\n</div>"
     },
     "execution_count": 17,
     "metadata": {},
     "output_type": "execute_result"
    }
   ],
   "source": [
    "pr_vuln[pr_vuln['state']=='CLOSED']"
   ]
  },
  {
   "cell_type": "code",
   "execution_count": 18,
   "metadata": {},
   "outputs": [
    {
     "data": {
      "text/plain": "   Unnamed: 0  case             repository  number associated  package  \\\n0           0     0         11ways/hawkejs      10         []  codecov   \n1           1     1  18F/fedramp-dashboard      83   [83, 84]  angular   \n2           2     2  18F/fedramp-dashboard      91         []  angular   \n3           3     3  18F/fedramp-dashboard      91         []  angular   \n4           4     4      2600hz/monster-ui     596         []    acorn   \n\n                  ghsa  fixed     by      A                        B  \\\n0  GHSA-5q88-cjfq-g2mh   True  human  False                ['other']   \n1  GHSA-28hp-fgcr-2r4h   True    bot   True               ['merged']   \n2  GHSA-89mq-4x47-5v83   True  human  False  ['update dependencies']   \n3  GHSA-28hp-fgcr-2r4h   True  human  False  ['update dependencies']   \n4  GHSA-6chw-6frg-f759   True  human   True  ['update dependencies']   \n\n           C   D category  \n0  ['other']  []    [1,2]  \n1  ['other']  []    [3,4]  \n2  ['other']  []    [3,4]  \n3  ['other']  []    [3,4]  \n4  ['other']  []    [1,2]  ",
      "text/html": "<div>\n<style scoped>\n    .dataframe tbody tr th:only-of-type {\n        vertical-align: middle;\n    }\n\n    .dataframe tbody tr th {\n        vertical-align: top;\n    }\n\n    .dataframe thead th {\n        text-align: right;\n    }\n</style>\n<table border=\"1\" class=\"dataframe\">\n  <thead>\n    <tr style=\"text-align: right;\">\n      <th></th>\n      <th>Unnamed: 0</th>\n      <th>case</th>\n      <th>repository</th>\n      <th>number</th>\n      <th>associated</th>\n      <th>package</th>\n      <th>ghsa</th>\n      <th>fixed</th>\n      <th>by</th>\n      <th>A</th>\n      <th>B</th>\n      <th>C</th>\n      <th>D</th>\n      <th>category</th>\n    </tr>\n  </thead>\n  <tbody>\n    <tr>\n      <th>0</th>\n      <td>0</td>\n      <td>0</td>\n      <td>11ways/hawkejs</td>\n      <td>10</td>\n      <td>[]</td>\n      <td>codecov</td>\n      <td>GHSA-5q88-cjfq-g2mh</td>\n      <td>True</td>\n      <td>human</td>\n      <td>False</td>\n      <td>['other']</td>\n      <td>['other']</td>\n      <td>[]</td>\n      <td>[1,2]</td>\n    </tr>\n    <tr>\n      <th>1</th>\n      <td>1</td>\n      <td>1</td>\n      <td>18F/fedramp-dashboard</td>\n      <td>83</td>\n      <td>[83, 84]</td>\n      <td>angular</td>\n      <td>GHSA-28hp-fgcr-2r4h</td>\n      <td>True</td>\n      <td>bot</td>\n      <td>True</td>\n      <td>['merged']</td>\n      <td>['other']</td>\n      <td>[]</td>\n      <td>[3,4]</td>\n    </tr>\n    <tr>\n      <th>2</th>\n      <td>2</td>\n      <td>2</td>\n      <td>18F/fedramp-dashboard</td>\n      <td>91</td>\n      <td>[]</td>\n      <td>angular</td>\n      <td>GHSA-89mq-4x47-5v83</td>\n      <td>True</td>\n      <td>human</td>\n      <td>False</td>\n      <td>['update dependencies']</td>\n      <td>['other']</td>\n      <td>[]</td>\n      <td>[3,4]</td>\n    </tr>\n    <tr>\n      <th>3</th>\n      <td>3</td>\n      <td>3</td>\n      <td>18F/fedramp-dashboard</td>\n      <td>91</td>\n      <td>[]</td>\n      <td>angular</td>\n      <td>GHSA-28hp-fgcr-2r4h</td>\n      <td>True</td>\n      <td>human</td>\n      <td>False</td>\n      <td>['update dependencies']</td>\n      <td>['other']</td>\n      <td>[]</td>\n      <td>[3,4]</td>\n    </tr>\n    <tr>\n      <th>4</th>\n      <td>4</td>\n      <td>4</td>\n      <td>2600hz/monster-ui</td>\n      <td>596</td>\n      <td>[]</td>\n      <td>acorn</td>\n      <td>GHSA-6chw-6frg-f759</td>\n      <td>True</td>\n      <td>human</td>\n      <td>True</td>\n      <td>['update dependencies']</td>\n      <td>['other']</td>\n      <td>[]</td>\n      <td>[1,2]</td>\n    </tr>\n  </tbody>\n</table>\n</div>"
     },
     "execution_count": 18,
     "metadata": {},
     "output_type": "execute_result"
    }
   ],
   "source": [
    "# there are 10 repositories in the fixes dataframe that do not exist in the pr_vuln dataframe\n",
    "if 'category' not in fixes.columns:\n",
    "    fixes = pd.merge(\n",
    "        fixes,\n",
    "        prs_per_project[['repository','category']],\n",
    "        on='repository',\n",
    "        how='inner'\n",
    "    )\n",
    "    fixes['category'] = fixes['category'].astype(str)\n",
    "fixes.head()\n",
    "\n",
    "# hamid\n",
    "# this is where fixes records are reduce"
   ]
  },
  {
   "cell_type": "code",
   "execution_count": 19,
   "metadata": {
    "scrolled": true
   },
   "outputs": [
    {
     "name": "stdout",
     "output_type": "stream",
     "text": [
      "   fixed  case       perc\n",
      "0  False   757  15.379927\n",
      "1   True  4165  84.620073\n"
     ]
    },
    {
     "data": {
      "text/plain": "fixed         False       True\ncategory                      \n[1,2]     23.649460  76.350540\n[11,67]   16.071429  83.928571\n[3,4]      9.225513  90.774487\n[5,10]    13.960114  86.039886",
      "text/html": "<div>\n<style scoped>\n    .dataframe tbody tr th:only-of-type {\n        vertical-align: middle;\n    }\n\n    .dataframe tbody tr th {\n        vertical-align: top;\n    }\n\n    .dataframe thead th {\n        text-align: right;\n    }\n</style>\n<table border=\"1\" class=\"dataframe\">\n  <thead>\n    <tr style=\"text-align: right;\">\n      <th>fixed</th>\n      <th>False</th>\n      <th>True</th>\n    </tr>\n    <tr>\n      <th>category</th>\n      <th></th>\n      <th></th>\n    </tr>\n  </thead>\n  <tbody>\n    <tr>\n      <th>[1,2]</th>\n      <td>23.649460</td>\n      <td>76.350540</td>\n    </tr>\n    <tr>\n      <th>[11,67]</th>\n      <td>16.071429</td>\n      <td>83.928571</td>\n    </tr>\n    <tr>\n      <th>[3,4]</th>\n      <td>9.225513</td>\n      <td>90.774487</td>\n    </tr>\n    <tr>\n      <th>[5,10]</th>\n      <td>13.960114</td>\n      <td>86.039886</td>\n    </tr>\n  </tbody>\n</table>\n</div>"
     },
     "execution_count": 19,
     "metadata": {},
     "output_type": "execute_result"
    }
   ],
   "source": [
    "resultsrq21 = fixes.groupby(by=['category','fixed'])['case'].count().reset_index()\n",
    "\n",
    "# hamid\n",
    "total_fixed_or_not = fixes.groupby(by=['fixed'])['case'].count().reset_index()\n",
    "total_fixed_or_not['perc'] = (total_fixed_or_not['case'] / total_fixed_or_not.case.sum())*100\n",
    "print(total_fixed_or_not)\n",
    "\n",
    "resultsrq21['total'] = 0\n",
    "for cat in resultsrq21.category.unique():\n",
    "    tot = resultsrq21[resultsrq21['category']==cat].case.sum()\n",
    "    resultsrq21.loc[resultsrq21['category']==cat,'total'] = tot\n",
    "resultsrq21['perc'] = (resultsrq21['case']/resultsrq21['total'])*100\n",
    "pd.pivot_table(resultsrq21,values='perc',index=['category'],columns=['fixed'],aggfunc=np.sum)"
   ]
  },
  {
   "cell_type": "code",
   "execution_count": 20,
   "metadata": {},
   "outputs": [
    {
     "data": {
      "text/plain": "by              bot      human\ncategory                      \n[1,2]     52.830189  47.169811\n[11,67]   71.112930  28.887070\n[3,4]     61.355082  38.644918\n[5,10]    64.105960  35.894040",
      "text/html": "<div>\n<style scoped>\n    .dataframe tbody tr th:only-of-type {\n        vertical-align: middle;\n    }\n\n    .dataframe tbody tr th {\n        vertical-align: top;\n    }\n\n    .dataframe thead th {\n        text-align: right;\n    }\n</style>\n<table border=\"1\" class=\"dataframe\">\n  <thead>\n    <tr style=\"text-align: right;\">\n      <th>by</th>\n      <th>bot</th>\n      <th>human</th>\n    </tr>\n    <tr>\n      <th>category</th>\n      <th></th>\n      <th></th>\n    </tr>\n  </thead>\n  <tbody>\n    <tr>\n      <th>[1,2]</th>\n      <td>52.830189</td>\n      <td>47.169811</td>\n    </tr>\n    <tr>\n      <th>[11,67]</th>\n      <td>71.112930</td>\n      <td>28.887070</td>\n    </tr>\n    <tr>\n      <th>[3,4]</th>\n      <td>61.355082</td>\n      <td>38.644918</td>\n    </tr>\n    <tr>\n      <th>[5,10]</th>\n      <td>64.105960</td>\n      <td>35.894040</td>\n    </tr>\n  </tbody>\n</table>\n</div>"
     },
     "execution_count": 20,
     "metadata": {},
     "output_type": "execute_result"
    }
   ],
   "source": [
    "resultsrq22 = fixes.groupby(by=['category','by'])['case'].count().reset_index()\n",
    "resultsrq22['total'] = 0\n",
    "for cat in resultsrq22.category.unique():\n",
    "    tot = resultsrq22[resultsrq22['category']==cat].case.sum()\n",
    "    resultsrq22.loc[resultsrq22['category']==cat,'total'] = tot\n",
    "resultsrq22['perc'] = (resultsrq22['case']/resultsrq22['total'])*100\n",
    "pd.pivot_table(resultsrq22,values='perc',index=['category'],columns=['by'],aggfunc=np.sum)"
   ]
  },
  {
   "cell_type": "code",
   "execution_count": 21,
   "metadata": {},
   "outputs": [
    {
     "name": "stdout",
     "output_type": "stream",
     "text": [
      "[[ 636  197]\n",
      " [ 797   81]\n",
      " [1510  245]\n",
      " [1222  234]]\n",
      "\u001B[1mOverall Perason Chisquare:\u001B[0m\n",
      "p-value: 1.1978691437080447e-15; Cramer's V: 0.12143036533791564\n",
      "\u001B[1mPost-hoc pairwise comparisons:\u001B[0m\n",
      "[1.0698036662289223e-15, 1.3315975824241285e-09, 1.0512689067747762e-05, 0.000638505584757772, 3.718244115053478e-06, 0.10479294728876147]\n",
      "\u001B[1m[p-value]\u001B[0m\n",
      "[[0.000000e+00 6.418822e-15 3.994793e-09 1.576903e-05]\n",
      " [0.000000e+00 0.000000e+00 7.662067e-04 7.436488e-06]\n",
      " [0.000000e+00 0.000000e+00 0.000000e+00 1.047929e-01]\n",
      " [0.000000e+00 0.000000e+00 0.000000e+00 0.000000e+00]]\n",
      "\u001B[1m[different significance levels]\u001B[0m\n",
      "[[0. 4. 4. 4.]\n",
      " [0. 0. 4. 4.]\n",
      " [0. 0. 0. 0.]\n",
      " [0. 0. 0. 0.]]\n"
     ]
    }
   ],
   "source": [
    "from statsmodels.stats.multitest import multipletests\n",
    "\n",
    "observed_values = np.array([fix_proportion_constrained(fixes, pr_nums, 0, 3, mode='absolute')[0:2],\n",
    "                            fix_proportion_constrained(fixes, pr_nums, 2, 5, mode='absolute')[0:2],\n",
    "                            fix_proportion_constrained(fixes, pr_nums, 4, 11, mode='absolute')[0:2],\n",
    "                            fix_proportion_constrained(fixes, pr_nums, 10, 68, mode='absolute')[0:2]])\n",
    "print(observed_values)\n",
    "# perform Pearson's chi-squared test\n",
    "stat, p, dof, expected = stats.chi2_contingency(observed_values)\n",
    "# retrieve the number of samples in the table\n",
    "n = observed_values.sum()\n",
    "# compute the Cramer's V; since the minimum between number of columns/rows - 1 in table is equal to 1\n",
    "# the formula is square root of (test value, i.e., chi^2, divided by umber of samples in the table)\n",
    "cramer_v = ((stat/n)/1)**0.5\n",
    "# create a dataframe\n",
    "print(\"\\033[1m\" + 'Overall Perason Chisquare:' + \"\\033[0m\")\n",
    "print('p-value: {}; Cramer\\'s V: {}'.format(p, cramer_v))\n",
    "print(\"\\033[1m\" + 'Post-hoc pairwise comparisons:' + \"\\033[0m\")\n",
    "post_hoc_p = np.zeros((4, 4))\n",
    "post_hoc_sig = np.zeros((4, 4))\n",
    "p_values = []\n",
    "combinations = list(itertools.combinations(range(0,4), 2))\n",
    "for i, j in combinations:\n",
    "    _, p, _, _ = stats.chi2_contingency(observed_values[[i,j], :])\n",
    "    p_values.append(p)\n",
    "pd.DataFrame({'p': p_values}).to_csv('data.csv', index=False)\n",
    "print(p_values)\n",
    "\n",
    "# mptest = multipletests(p_values)\n",
    "# print(mptest)\n",
    "\n",
    "command = f'Rscript adjust_p.R {DIR_RQ} data.csv'\n",
    "os.system(command)\n",
    "os.remove('data.csv')\n",
    "p_adjusted = []\n",
    "with open(\"adjusted_p.txt\") as f:\n",
    "    for line in f:\n",
    "        p_adjusted_str = line.split()\n",
    "        p_adjusted = [float(x) for x in p_adjusted_str]\n",
    "os.remove('adjusted_p.txt')\n",
    "for index, combo in enumerate(combinations):\n",
    "    if p_adjusted[index] < 0.001:\n",
    "        post_hoc_sig[combo[0],combo[1]] = 4\n",
    "    elif p_adjusted[index] < 0.01:\n",
    "        post_hoc_sig[combo[0],combo[1]] = 3\n",
    "    elif p_adjusted[index] < 0.05:\n",
    "        post_hoc_sig[combo[0],combo[1]] = 2\n",
    "    else:\n",
    "        post_hoc_p[combo[0],combo[1]] = 1\n",
    "    post_hoc_p[combo[0],combo[1]] = p_adjusted[index]\n",
    "print(\"\\033[1m\" + '[p-value]' + \"\\033[0m\")\n",
    "print(post_hoc_p)\n",
    "print(\"\\033[1m\" + '[different significance levels]' + \"\\033[0m\")\n",
    "print(post_hoc_sig)"
   ]
  },
  {
   "cell_type": "code",
   "execution_count": 22,
   "metadata": {},
   "outputs": [
    {
     "name": "stdout",
     "output_type": "stream",
     "text": [
      "[[336 300]\n",
      " [489 308]\n",
      " [968 542]\n",
      " [869 353]]\n",
      "\u001B[1mOverall Perason Chisquare:\u001B[0m\n",
      "p-value: 9.890043486117468e-14; Cramer's V: 0.12359308525266517\n",
      "\u001B[1mPost-hoc pairwise comparisons:\u001B[0m\n",
      "\u001B[1m[p-value]\u001B[0m\n",
      "[[0.000000e+00 0.000000e+00 0.000000e+00 0.000000e+00]\n",
      " [1.705587e-03 0.000000e+00 0.000000e+00 0.000000e+00]\n",
      " [3.958292e-06 2.087154e-01 0.000000e+00 0.000000e+00]\n",
      " [4.320853e-14 1.245332e-05 1.853202e-04 0.000000e+00]]\n",
      "\u001B[1m[different significance levels]\u001B[0m\n",
      "[[0. 0. 0. 0.]\n",
      " [3. 0. 0. 0.]\n",
      " [4. 0. 0. 0.]\n",
      " [4. 4. 4. 0.]]\n"
     ]
    }
   ],
   "source": [
    "observed_values = np.array([fix_proportion_constrained(fixes, pr_nums, 0, 3, mode='absolute')[2:4],\n",
    "                            fix_proportion_constrained(fixes, pr_nums, 2, 5, mode='absolute')[2:4],\n",
    "                            fix_proportion_constrained(fixes, pr_nums, 4, 11, mode='absolute')[2:4],\n",
    "                            fix_proportion_constrained(fixes, pr_nums, 10, 68, mode='absolute')[2:4]])\n",
    "print(observed_values)\n",
    "# perform Pearson's chi-squared test\n",
    "stat, p, dof, expected = stats.chi2_contingency(observed_values)\n",
    "# retrieve the number of samples in the table\n",
    "n = observed_values.sum()\n",
    "# compute the Cramer's V; since the minimum between number of columns/rows - 1 in table is equal to 1\n",
    "# the formula is square root of (test value, i.e., chi^2, divided by umber of samples in the table)\n",
    "cramer_v = ((stat/n)/1)**0.5\n",
    "# create a dataframe\n",
    "print(\"\\033[1m\" + 'Overall Perason Chisquare:' + \"\\033[0m\")\n",
    "print('p-value: {}; Cramer\\'s V: {}'.format(p, cramer_v))\n",
    "print(\"\\033[1m\" + 'Post-hoc pairwise comparisons:' + \"\\033[0m\")\n",
    "post_hoc_p = np.zeros((4, 4))\n",
    "post_hoc_sig = np.zeros((4, 4))\n",
    "p_values = []\n",
    "combinations = list(itertools.combinations(range(0,4), 2))\n",
    "for i, j in combinations:\n",
    "    _, p, _, _ = stats.chi2_contingency(observed_values[[j,i], :])\n",
    "    p_values.append(p)\n",
    "pd.DataFrame({'p': p_values}).to_csv('data.csv', index=False)\n",
    "command = f'Rscript adjust_p.R {DIR_RQ} data.csv'\n",
    "os.system(command)\n",
    "os.remove('data.csv')\n",
    "p_adjusted = []\n",
    "with open(\"adjusted_p.txt\") as f:\n",
    "    for line in f:\n",
    "        p_adjusted_str = line.split()\n",
    "        p_adjusted = [float(x) for x in p_adjusted_str]\n",
    "os.remove('adjusted_p.txt')\n",
    "for index, combo in enumerate(combinations):\n",
    "    if p_adjusted[index] < 0.001:\n",
    "        post_hoc_sig[combo[1],combo[0]] = 4\n",
    "    elif p_adjusted[index] < 0.01:\n",
    "        post_hoc_sig[combo[1],combo[0]] = 3\n",
    "    elif p_adjusted[index] < 0.05:\n",
    "        post_hoc_sig[combo[1],combo[0]] = 2\n",
    "    else:\n",
    "        post_hoc_p[combo[1],combo[0]] = 1\n",
    "    post_hoc_p[combo[1],combo[0]] = p_adjusted[index]\n",
    "print(\"\\033[1m\" + '[p-value]' + \"\\033[0m\")\n",
    "print(post_hoc_p)\n",
    "print(\"\\033[1m\" + '[different significance levels]' + \"\\033[0m\")\n",
    "print(post_hoc_sig)"
   ]
  },
  {
   "cell_type": "markdown",
   "metadata": {},
   "source": [
    "## Developer Motivation"
   ]
  },
  {
   "cell_type": "code",
   "execution_count": 23,
   "metadata": {},
   "outputs": [
    {
     "name": "stdout",
     "output_type": "stream",
     "text": [
      "\u001B[1mMeta Reasons\u001B[0m\n",
      "                               Absolute Relative\n",
      "misc                                  5    2.35%\n",
      "bot dissatisfaction                  20    9.39%\n",
      "bot limitations                      22   10.33%\n",
      "dependency usage                     39   18.31%\n",
      "compatibility challenges             59    27.7%\n",
      "project management challenges        68   31.92%\n",
      "\n",
      "\n",
      "\u001B[1mPrecise Reasons\u001B[0m\n",
      "                       Absolute Relative\n",
      "advanced                      1    0.47%\n",
      "trial run                     1    0.47%\n",
      "postpone                      1    0.47%\n",
      "no tests                      1    0.47%\n",
      "tolerable severity            1    0.47%\n",
      "ignore minor                  1    0.47%\n",
      "grouping                      1    0.47%\n",
      "confusion                     3    1.41%\n",
      "higher version                3    1.41%\n",
      "anti-dependabot               4    1.88%\n",
      "wrong branch                  4    1.88%\n",
      "spam                          5    2.35%\n",
      "cla                           6    2.82%\n",
      "bot extra changes             7    3.29%\n",
      "already resolved              9    4.23%\n",
      "alert prevention             11    5.16%\n",
      "auto close                   11    5.16%\n",
      "manifest updates only        13     6.1%\n",
      "ignore dependency            14    6.57%\n",
      "obsolete                     26   12.21%\n",
      "compatibility                40   18.78%\n",
      "external management          50   23.47%\n",
      "\n",
      "\n"
     ]
    }
   ],
   "source": [
    "# all possible reasons for ignoring dependabot pr\n",
    "column_d1 = dict(sorted(Counter(reasons['D1'].to_list()).items(),\n",
    "                       key=lambda item: item[1]))\n",
    "total_column_d1 = 0\n",
    "case_name = []\n",
    "case_abs_value = []\n",
    "case_rel_value = []\n",
    "for key in column_d1:\n",
    "    total_column_d1 += column_d1[key]\n",
    "for key in column_d1:\n",
    "    case_name.append(key)\n",
    "    case_abs_value.append(column_d1[key])\n",
    "    case_rel_value.append(str(round(column_d1[key]/total_column_d1*100,2))+'%')\n",
    "\n",
    "column_d1 = pd.DataFrame({\n",
    "    'Absolute': case_abs_value,\n",
    "    'Relative': case_rel_value},\n",
    "    index = case_name\n",
    ")\n",
    "print(\"\\033[1m\" + 'Meta Reasons' + \"\\033[0m\")\n",
    "print(column_d1)\n",
    "print(\"\\n\")\n",
    "\n",
    "column_d = dict(sorted(Counter(reasons['D'].to_list()).items(),\n",
    "                       key=lambda item: item[1]))\n",
    "\n",
    "total_column_d = 0\n",
    "case_name = []\n",
    "case_abs_value = []\n",
    "case_rel_value = []\n",
    "for key in column_d:\n",
    "    total_column_d += column_d[key]\n",
    "for key in column_d:\n",
    "    case_name.append(key)\n",
    "    case_abs_value.append(column_d[key])\n",
    "    case_rel_value.append(str(round(column_d[key]/total_column_d*100,2))+'%')\n",
    "\n",
    "column_d = pd.DataFrame({\n",
    "    'Absolute': case_abs_value,\n",
    "    'Relative': case_rel_value},\n",
    "    index = case_name\n",
    ")\n",
    "print(\"\\033[1m\" + 'Precise Reasons' + \"\\033[0m\")\n",
    "print(column_d)\n",
    "print(\"\\n\")"
   ]
  }
 ],
 "metadata": {
  "kernelspec": {
   "display_name": "Python 3",
   "language": "python",
   "name": "python3"
  },
  "language_info": {
   "codemirror_mode": {
    "name": "ipython",
    "version": 3
   },
   "file_extension": ".py",
   "mimetype": "text/x-python",
   "name": "python",
   "nbconvert_exporter": "python",
   "pygments_lexer": "ipython3",
   "version": "3.8.2"
  }
 },
 "nbformat": 4,
 "nbformat_minor": 4
}
