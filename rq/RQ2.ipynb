{
 "cells": [
  {
   "cell_type": "code",
   "id": "initial_id",
   "metadata": {
    "collapsed": true,
    "ExecuteTime": {
     "end_time": "2024-10-15T22:37:28.232664Z",
     "start_time": "2024-10-15T22:37:28.229509Z"
    }
   },
   "source": [
    "import pandas as pd\n",
    "\n",
    "import const\n",
    "from const import CSV_DATA\n",
    "from scipy.stats import spearmanr"
   ],
   "outputs": [],
   "execution_count": 20
  },
  {
   "metadata": {
    "ExecuteTime": {
     "end_time": "2024-10-15T22:07:40.875376Z",
     "start_time": "2024-10-15T22:07:40.035052Z"
    }
   },
   "cell_type": "code",
   "source": [
    "repo_popularity = pd.read_csv(CSV_DATA['repo_popularity'])\n",
    "vulnerabilities = pd.read_csv(CSV_DATA['pr_vulnerabilities'], index_col=False)\n",
    "attrs = pd.read_csv(const.DIR_EXTENSION + '/data/repositories_attributes.csv')\n",
    "\n",
    "merge_ratios = []\n",
    "num_prs = []\n",
    "for idx, row in attrs.iterrows():\n",
    "    records = vulnerabilities[vulnerabilities['repository'] == row['repository']]\n",
    "    num_prs.append(len(records))\n",
    "    if len(records) == 0:\n",
    "        raise Exception('Invalid number of records.')\n",
    "    else:\n",
    "        merge_ratios.append(len(records[records['state'] == 'MERGED']) / len(records))\n",
    "        \n",
    "\n",
    "attrs['merge_ratio'] = merge_ratios\n",
    "attrs['num_prs'] = num_prs\n",
    "attrs['commits_count'] = attrs['end_commits_total'] - attrs['start_commits_total']"
   ],
   "id": "bf86a7660e5d3ccc",
   "outputs": [],
   "execution_count": 2
  },
  {
   "metadata": {
    "ExecuteTime": {
     "end_time": "2024-10-15T22:07:43.889132Z",
     "start_time": "2024-10-15T22:07:43.879365Z"
    }
   },
   "cell_type": "code",
   "source": [
    "spearman = repo_popularity[['ratio', 'stars', 'forks']].corr(method=\"spearman\")\n",
    "\n",
    "spearman['ratio']"
   ],
   "id": "b05383316b4b4fa",
   "outputs": [
    {
     "data": {
      "text/plain": [
       "ratio    1.000000\n",
       "stars    0.163205\n",
       "forks    0.159600\n",
       "Name: ratio, dtype: float64"
      ]
     },
     "execution_count": 3,
     "metadata": {},
     "output_type": "execute_result"
    }
   ],
   "execution_count": 3
  },
  {
   "metadata": {
    "ExecuteTime": {
     "end_time": "2024-10-15T22:36:46.691361Z",
     "start_time": "2024-10-15T22:36:46.681304Z"
    }
   },
   "cell_type": "code",
   "source": [
    "g1 = repo_popularity[(repo_popularity['all'] >= 1) & (repo_popularity['all'] <= 2)]\n",
    "g2 = repo_popularity[(repo_popularity['all'] >= 3) & (repo_popularity['all'] <= 4)]\n",
    "g3 = repo_popularity[(repo_popularity['all'] >= 5) & (repo_popularity['all'] <= 10)]\n",
    "g4 = repo_popularity[repo_popularity['all'] >= 11]"
   ],
   "id": "c40180a86882bbc5",
   "outputs": [],
   "execution_count": 17
  },
  {
   "metadata": {
    "ExecuteTime": {
     "end_time": "2024-10-15T22:08:54.297015Z",
     "start_time": "2024-10-15T22:08:54.286718Z"
    }
   },
   "cell_type": "code",
   "source": [
    "spearman = g1[['ratio', 'stars', 'forks']].corr(method=\"spearman\")\n",
    "print('spearman (g1)\\nstars: %f, forks: %f' % (\n",
    "    spearman['ratio']['stars'],\n",
    "    spearman['ratio']['forks'],\n",
    "))\n",
    "\n",
    "spearman = g2[['ratio', 'stars', 'forks']].corr(method=\"spearman\")\n",
    "print('spearman (g2)\\nstars: %f, forks: %f' % (\n",
    "    spearman['ratio']['stars'],\n",
    "    spearman['ratio']['forks'],\n",
    "))\n",
    "\n",
    "spearman = g3[['ratio', 'stars', 'forks']].corr(method=\"spearman\")\n",
    "print('spearman (g3)\\nstars: %f, forks: %f' % (\n",
    "    spearman['ratio']['stars'],\n",
    "    spearman['ratio']['forks'],\n",
    "))\n",
    "\n",
    "spearman = g4[['ratio', 'stars', 'forks']].corr(method=\"spearman\")\n",
    "print('spearman (g4)\\nstars: %f, forks: %f' % (\n",
    "    spearman['ratio']['stars'],\n",
    "    spearman['ratio']['forks'],\n",
    "))"
   ],
   "id": "e380c6c761829aa7",
   "outputs": [
    {
     "name": "stdout",
     "output_type": "stream",
     "text": [
      "spearman (g1)\n",
      "stars: 0.140911, forks: 0.137418\n",
      "spearman (g2)\n",
      "stars: 0.052089, forks: 0.048689\n",
      "spearman (g3)\n",
      "stars: 0.305139, forks: 0.312144\n",
      "spearman (g4)\n",
      "stars: 0.127724, forks: 0.073695\n"
     ]
    }
   ],
   "execution_count": 7
  },
  {
   "metadata": {
    "ExecuteTime": {
     "end_time": "2024-10-15T22:40:02.271681Z",
     "start_time": "2024-10-15T22:40:02.262199Z"
    }
   },
   "cell_type": "code",
   "source": [
    "print('(g3)')\n",
    "\n",
    "correlation, p_value = spearmanr(g3['ratio'], g3['stars'])\n",
    "print('stars: corr: %f, p-value: %f' % (correlation, p_value))\n",
    "\n",
    "correlation, p_value = spearmanr(g3['ratio'], g3['forks'])\n",
    "print('forks: corr: %f, p-value: %f' % (correlation, p_value))"
   ],
   "id": "8b3c34d29d42b062",
   "outputs": [
    {
     "name": "stdout",
     "output_type": "stream",
     "text": [
      "(g3)\n",
      "stars: corr: 0.305139, p-value: 0.000001\n",
      "forks: corr: 0.312144, p-value: 0.000000\n"
     ]
    }
   ],
   "execution_count": 22
  },
  {
   "metadata": {
    "ExecuteTime": {
     "end_time": "2024-10-15T22:42:10.708792Z",
     "start_time": "2024-10-15T22:42:10.702402Z"
    }
   },
   "cell_type": "code",
   "source": [
    "g1 = attrs[(attrs['num_prs'] >= 1) & (attrs['num_prs'] <= 2)]\n",
    "g2 = attrs[(attrs['num_prs'] >= 3) & (attrs['num_prs'] <= 4)]\n",
    "g3 = attrs[(attrs['num_prs'] >= 5) & (attrs['num_prs'] <= 10)]\n",
    "g4 = attrs[attrs['num_prs'] >= 11]"
   ],
   "id": "719e3715d606499",
   "outputs": [],
   "execution_count": 23
  },
  {
   "metadata": {
    "ExecuteTime": {
     "end_time": "2024-10-15T22:42:13.577191Z",
     "start_time": "2024-10-15T22:42:13.567855Z"
    }
   },
   "cell_type": "code",
   "source": [
    "spearman = attrs[['merge_ratio', 'size', 'age', 'commits_count', 'total_authors']].corr(method=\"spearman\")\n",
    "\n",
    "spearman['merge_ratio']"
   ],
   "id": "498b19f7ef04b695",
   "outputs": [
    {
     "data": {
      "text/plain": [
       "merge_ratio      1.000000\n",
       "size             0.005320\n",
       "age             -0.057356\n",
       "commits_count    0.030887\n",
       "total_authors    0.128130\n",
       "Name: merge_ratio, dtype: float64"
      ]
     },
     "execution_count": 24,
     "metadata": {},
     "output_type": "execute_result"
    }
   ],
   "execution_count": 24
  },
  {
   "metadata": {
    "ExecuteTime": {
     "end_time": "2024-10-15T22:42:15.027174Z",
     "start_time": "2024-10-15T22:42:15.016343Z"
    }
   },
   "cell_type": "code",
   "source": [
    "spearman = g1[['merge_ratio', 'size', 'age', 'commits_count', 'total_authors']].corr(method=\"spearman\")\n",
    "print('spearman (g1)\\nsize: %f, age: %f, commits_count: %f, total_authors: %f' % (\n",
    "    spearman['merge_ratio']['size'],\n",
    "    spearman['merge_ratio']['age'],\n",
    "    spearman['merge_ratio']['commits_count'],\n",
    "    spearman['merge_ratio']['total_authors'],\n",
    "))\n",
    "\n",
    "spearman = g2[['merge_ratio', 'size', 'age', 'commits_count', 'total_authors']].corr(method=\"spearman\")\n",
    "print('spearman (g2)\\nsize: %f, age: %f, commits_count: %f, total_authors: %f' % (\n",
    "    spearman['merge_ratio']['size'],\n",
    "    spearman['merge_ratio']['age'],\n",
    "    spearman['merge_ratio']['commits_count'],\n",
    "    spearman['merge_ratio']['total_authors'],\n",
    "))\n",
    "\n",
    "spearman = g3[['merge_ratio', 'size', 'age', 'commits_count', 'total_authors']].corr(method=\"spearman\")\n",
    "print('spearman (g3)\\nsize: %f, age: %f, commits_count: %f, total_authors: %f' % (\n",
    "    spearman['merge_ratio']['size'],\n",
    "    spearman['merge_ratio']['age'],\n",
    "    spearman['merge_ratio']['commits_count'],\n",
    "    spearman['merge_ratio']['total_authors'],\n",
    "))\n",
    "\n",
    "spearman = g4[['merge_ratio', 'size', 'age', 'commits_count', 'total_authors']].corr(method=\"spearman\")\n",
    "print('spearman (g4)\\nsize: %f, age: %f, commits_count: %f, total_authors: %f' % (\n",
    "    spearman['merge_ratio']['size'],\n",
    "    spearman['merge_ratio']['age'],\n",
    "    spearman['merge_ratio']['commits_count'],\n",
    "    spearman['merge_ratio']['total_authors'],\n",
    "))"
   ],
   "id": "a9a21c0ff2811060",
   "outputs": [],
   "execution_count": null
  },
  {
   "metadata": {
    "ExecuteTime": {
     "end_time": "2024-10-15T22:42:42.841314Z",
     "start_time": "2024-10-15T22:42:42.835745Z"
    }
   },
   "cell_type": "code",
   "source": [
    "print('(g3)')\n",
    "\n",
    "correlation, p_value = spearmanr(g3['merge_ratio'], g3['total_authors'])\n",
    "print('total_authors: corr: %f, p-value: %f' % (correlation, p_value))"
   ],
   "id": "3e6470b7e04f8d24",
   "outputs": [
    {
     "name": "stdout",
     "output_type": "stream",
     "text": [
      "(g3)\n",
      "total_authors: corr: 0.272257, p-value: 0.000013\n"
     ]
    }
   ],
   "execution_count": 26
  }
 ],
 "metadata": {
  "kernelspec": {
   "display_name": "Python 3",
   "language": "python",
   "name": "python3"
  },
  "language_info": {
   "codemirror_mode": {
    "name": "ipython",
    "version": 2
   },
   "file_extension": ".py",
   "mimetype": "text/x-python",
   "name": "python",
   "nbconvert_exporter": "python",
   "pygments_lexer": "ipython2",
   "version": "2.7.6"
  }
 },
 "nbformat": 4,
 "nbformat_minor": 5
}
