{
 "cells": [
  {
   "cell_type": "markdown",
   "metadata": {},
   "source": [
    "## Imports"
   ]
  },
  {
   "cell_type": "code",
   "execution_count": 1,
   "metadata": {},
   "outputs": [],
   "source": [
    "import itertools\n",
    "import sys\n",
    "\n",
    "import matplotlib.pyplot as plt\n",
    "import numpy as np\n",
    "import pandas as pd\n",
    "import seaborn as sns\n",
    "from lifelines import KaplanMeierFitter\n",
    "from lifelines.statistics import logrank_test\n",
    "from scipy.stats import mannwhitneyu\n",
    "\n",
    "plt.rcParams[\"figure.figsize\"] = (20,10)\n",
    "\n",
    "sys.path.append('..')\n",
    "from const import *\n",
    "from util import load_advisory_database"
   ]
  },
  {
   "cell_type": "markdown",
   "metadata": {},
   "source": [
    "## Read, Trasform, and Filter Data"
   ]
  },
  {
   "cell_type": "code",
   "execution_count": 2,
   "metadata": {},
   "outputs": [],
   "source": [
    "commit_times = pd.read_csv(CSV_DATA['fixes_commits_times'], index_col=False)\n",
    "commit_times['author_time'] = pd.to_datetime(commit_times['author_time'])\n",
    "commit_times['committer_time'] = pd.to_datetime(commit_times['committer_time'])\n",
    "commit_times['pr_created_at'] = pd.to_datetime(commit_times['pr_created_at'])\n",
    "commit_times['pr_updated_at'] = pd.to_datetime(commit_times['pr_updated_at'])\n",
    "commit_times['pr_closed_at'] = pd.to_datetime(commit_times['pr_closed_at'])\n",
    "commit_times['pr_merged_at'] = pd.to_datetime(commit_times['pr_merged_at'])"
   ]
  },
  {
   "cell_type": "code",
   "execution_count": 3,
   "metadata": {},
   "outputs": [],
   "source": [
    "fixes_labels = pd.read_csv(CSV_DATA['fixes_labels_round_2'], index_col=False)\n",
    "\n",
    "non_fixes = fixes_labels[(fixes_labels['by'] != 'human') & (fixes_labels['by'] != 'bot')][['repository', 'number', 'package', 'ghsa']].copy()\n",
    "human_fixes = fixes_labels[fixes_labels['by'] == 'human'][['repository', 'number', 'package', 'ghsa']].copy()\n",
    "bot_fixes = fixes_labels[fixes_labels['by'] == 'bot'][['repository', 'number', 'package', 'ghsa']].copy()"
   ]
  },
  {
   "cell_type": "code",
   "execution_count": 4,
   "metadata": {},
   "outputs": [],
   "source": [
    "fixes_commits = pd.read_csv(CSV_DATA['fixes_labels'], index_col=False)\n",
    "fixes_commits = fixes_commits[[\"repository\", \"number\", \"ghsa\", \"commit_fix\"]]\n",
    "fixes_commits = fixes_commits.rename(columns = {'commit_fix': 'oid'})"
   ]
  },
  {
   "cell_type": "code",
   "execution_count": 5,
   "metadata": {},
   "outputs": [],
   "source": [
    "adv_database = load_advisory_database()[['package', 'severity', 'ghsa']].copy()"
   ]
  },
  {
   "cell_type": "code",
   "execution_count": 6,
   "metadata": {},
   "outputs": [],
   "source": [
    "pr_vuln = pd.read_csv(CSV_DATA['pr_vulnerabilities'], index_col=False)\n",
    "pr_vuln = pr_vuln[pr_vuln['state'] != 'OPEN']\n",
    "pr_nums = []\n",
    "projects = set(pr_vuln['repository'].to_list())\n",
    "for project in projects:\n",
    "    pr_nums.append(len(pr_vuln[pr_vuln['repository'] == project].index))\n",
    "pr_nums = pd.DataFrame({'repository': list(projects), 'prs': pr_nums})"
   ]
  },
  {
   "cell_type": "code",
   "execution_count": 7,
   "metadata": {},
   "outputs": [],
   "source": [
    "security_updates = pd.read_csv(CSV_DATA['security_updates_commits'],\n",
    "                               index_col=False)[['repository', 'number', 'created_at']]\n",
    "security_updates = security_updates.rename(columns={\"created_at\": \"sec_up_cr_at\"})\n",
    "security_updates['sec_up_cr_at'] = pd.to_datetime(security_updates['sec_up_cr_at'])"
   ]
  },
  {
   "cell_type": "markdown",
   "metadata": {},
   "source": [
    "### Distribute Fixes, Append Necessary Data"
   ]
  },
  {
   "cell_type": "code",
   "execution_count": 8,
   "metadata": {},
   "outputs": [],
   "source": [
    "non_fixes = non_fixes.merge(adv_database, how = 'inner', on=['package', 'ghsa']).drop_duplicates().merge(\n",
    "    security_updates, how = 'inner', on=['repository', 'number']\n",
    "    ).reset_index().drop_duplicates()\n",
    "non_fixes['end_time'] = pd.to_datetime('2021-04-09T00:00:00Z')\n",
    "bot_fixes = bot_fixes.merge(fixes_commits, how='inner', on=['repository', 'number', 'ghsa']).merge(\n",
    "    commit_times, how = 'inner', on=['repository', 'oid']).drop_duplicates().merge(\n",
    "    adv_database, how = 'inner', on=['package', 'ghsa']).drop_duplicates().merge(\n",
    "    security_updates, how = 'inner', on=['repository', 'number']\n",
    "    ).reset_index().drop_duplicates()\n",
    "human_fixes = human_fixes.merge(fixes_commits, how='inner', on=['repository', 'number', 'ghsa']).merge(\n",
    "    commit_times, how = 'inner', on=['repository', 'oid']).drop_duplicates().merge(\n",
    "    adv_database, how = 'inner', on=['package', 'ghsa']).drop_duplicates().merge(\n",
    "    security_updates, how = 'inner', on=['repository', 'number']\n",
    "    ).reset_index().drop_duplicates()"
   ]
  },
  {
   "cell_type": "markdown",
   "metadata": {},
   "source": [
    "### Compute Fixing Times"
   ]
  },
  {
   "cell_type": "code",
   "execution_count": 9,
   "metadata": {},
   "outputs": [
    {
     "name": "stdout",
     "output_type": "stream",
     "text": [
      "1628 1628 1628 1628 1628\n",
      "1917 1917 1917 1917 1917\n",
      "1433 1433 1433 1433 1433\n"
     ]
    }
   ],
   "source": [
    "time_to_fix1 = []\n",
    "time_to_fix2 = []\n",
    "time_to_fix3 = []\n",
    "severity1 = []\n",
    "severity2 = []\n",
    "severity3 = []\n",
    "observed1 = []\n",
    "observed2 = []\n",
    "observed3 = []\n",
    "by1 = []\n",
    "by2 = []\n",
    "by3 = []\n",
    "\n",
    "project1 = []\n",
    "project2 = []\n",
    "project3 = []\n",
    "\n",
    "t1 = pd.to_datetime('2019-09-30T23:59:59Z')\n",
    "t2 = pd.to_datetime('2020-01-31T23:59:59Z')\n",
    "\n",
    "for index, row in non_fixes.iterrows():\n",
    "    time_diff = row['end_time'] - row['sec_up_cr_at']\n",
    "\n",
    "    if row['sec_up_cr_at'] < t1:\n",
    "        time_to_fix1.append(time_diff.days + 1)\n",
    "        observed1.append(False)\n",
    "        project1.append(row['repository'])\n",
    "        severity1.append(row['severity'])\n",
    "        by1.append('none')\n",
    "    elif row['sec_up_cr_at'] >= t1 and row['sec_up_cr_at'] < t2:\n",
    "        time_to_fix2.append(time_diff.days + 1)\n",
    "        observed2.append(False)\n",
    "        project2.append(row['repository'])\n",
    "        severity2.append(row['severity'])\n",
    "        by2.append('none')\n",
    "    else:\n",
    "        time_to_fix3.append(time_diff.days + 1)\n",
    "        observed3.append(False)\n",
    "        project3.append(row['repository'])\n",
    "        severity3.append(row['severity'])\n",
    "        by3.append('none')\n",
    "\n",
    "    #time_to_fix.append(time_diff.days + 1)\n",
    "    # severity.append(row['severity'])\n",
    "    # by.append('none')\n",
    "    # project.append(row['repository'])\n",
    "for index, row in bot_fixes.iterrows():\n",
    "    if row['sec_up_cr_at'] < t1:\n",
    "        if pd.isna(row['pr_merged_at']):\n",
    "            time_to_fix1.append(max(1, (row['committer_time'] - row['sec_up_cr_at']).days + 1))\n",
    "        else:\n",
    "            time_to_fix1.append(max(1, (row['pr_merged_at'] - row['sec_up_cr_at']).days + 1))\n",
    "        observed1.append(True)\n",
    "        project1.append(row['repository'])\n",
    "        severity1.append(row['severity'])\n",
    "        by1.append('bot')\n",
    "    elif row['sec_up_cr_at'] >= t1 and row['sec_up_cr_at'] < t2:\n",
    "        if pd.isna(row['pr_merged_at']):\n",
    "            time_to_fix2.append(max(1, (row['committer_time'] - row['sec_up_cr_at']).days + 1))\n",
    "        else:\n",
    "            time_to_fix2.append(max(1, (row['pr_merged_at'] - row['sec_up_cr_at']).days + 1))\n",
    "        observed2.append(True)\n",
    "        project2.append(row['repository'])\n",
    "        severity2.append(row['severity'])\n",
    "        by2.append('bot')\n",
    "    else:\n",
    "        if pd.isna(row['pr_merged_at']):\n",
    "            time_to_fix3.append(max(1, (row['committer_time'] - row['sec_up_cr_at']).days + 1))\n",
    "        else:\n",
    "            time_to_fix3.append(max(1, (row['pr_merged_at'] - row['sec_up_cr_at']).days + 1))\n",
    "        observed3.append(True)\n",
    "        project3.append(row['repository'])\n",
    "        severity3.append(row['severity'])\n",
    "        by3.append('bot')\n",
    "\n",
    "    # severity.append(row['severity'])\n",
    "    # by.append('bot')\n",
    "    # project.append(row['repository'])\n",
    "human_time_to_fix = []\n",
    "for index, row in human_fixes.iterrows():\n",
    "    if row['sec_up_cr_at'] < t1:\n",
    "        time_to_fix1.append(max(1, (row['committer_time'] - row['sec_up_cr_at']).days + 1))\n",
    "        observed1.append(True)\n",
    "        project1.append(row['repository'])\n",
    "        severity1.append(row['severity'])\n",
    "        by1.append('human')\n",
    "    elif row['sec_up_cr_at'] >= t1 and row['sec_up_cr_at'] < t2:\n",
    "        time_to_fix2.append(max(1, (row['committer_time'] - row['sec_up_cr_at']).days + 1))\n",
    "        observed2.append(True)\n",
    "        project2.append(row['repository'])\n",
    "        severity2.append(row['severity'])\n",
    "        by2.append('human')\n",
    "    else:\n",
    "        time_to_fix3.append(max(1, (row['committer_time'] - row['sec_up_cr_at']).days + 1))\n",
    "        observed3.append(True)\n",
    "        project3.append(row['repository'])\n",
    "        severity3.append(row['severity'])\n",
    "        by3.append('human')\n",
    "    # time_to_fix.append(max(1, (row['committer_time'] - row['sec_up_cr_at']).days + 1))\n",
    "    # severity.append(row['severity'])\n",
    "    # by.append('human')\n",
    "    # project.append(row['repository'])\n",
    "# df_res = pd.DataFrame({'repository': project, 'severity': severity, 'time_to_fix': time_to_fix,\n",
    "#                        'observed': observed, 'by': by})\n",
    "# df_res\n",
    "print(len(time_to_fix1), len(observed1), len(project1), len(severity1), len(by1))\n",
    "print(len(time_to_fix2), len(observed2), len(project2), len(severity2), len(by2))\n",
    "print(len(time_to_fix3), len(observed3), len(project3), len(severity3), len(by3))"
   ]
  },
  {
   "cell_type": "markdown",
   "metadata": {},
   "source": [
    "## Survival Anaylsis: Overall"
   ]
  },
  {
   "cell_type": "code",
   "execution_count": 10,
   "metadata": {},
   "outputs": [
    {
     "data": {
      "text/plain": "<Figure size 432x288 with 1 Axes>",
      "image/png": "[encoded data removed]"
     },
     "metadata": {
      "needs_background": "light"
     },
     "output_type": "display_data"
    }
   ],
   "source": [
    "plt.rcParams[\"figure.figsize\"] = (12,4)\n",
    "kmf1 = KaplanMeierFitter()\n",
    "a1 = kmf1.fit(durations = time_to_fix1, event_observed = observed1, label='Time to resolve (P1)').plot()\n",
    "a2 = kmf1.fit(durations = time_to_fix2, event_observed = observed2, label='Time to resolve (P2)').plot()\n",
    "a3 = kmf1.fit(durations = time_to_fix3, event_observed = observed3, label='Time to resolve (P3)').plot()\n",
    "ticks = plt.xticks(np.concatenate((np.array([1]), np.arange(30, 690, 30.0)), axis=0))\n",
    "plt.xlabel(\"delay(in days)\")\n",
    "plt.ylabel(\"survival probability\")\n",
    "plt.savefig(\"survival_analysis_overall.png\", dpi=800)"
   ]
  },
  {
   "cell_type": "code",
   "execution_count": 11,
   "metadata": {},
   "outputs": [
    {
     "data": {
      "text/plain": "     x P(>x)\n0    1  0.78\n1    7  0.60\n2   14  0.53\n3   21  0.50\n4   30  0.45\n5   60  0.37\n6   90  0.33\n7  180  0.27\n8  365  0.21",
      "text/html": "<div>\n<style scoped>\n    .dataframe tbody tr th:only-of-type {\n        vertical-align: middle;\n    }\n\n    .dataframe tbody tr th {\n        vertical-align: top;\n    }\n\n    .dataframe thead th {\n        text-align: right;\n    }\n</style>\n<table border=\"1\" class=\"dataframe\">\n  <thead>\n    <tr style=\"text-align: right;\">\n      <th></th>\n      <th>x</th>\n      <th>P(&gt;x)</th>\n    </tr>\n  </thead>\n  <tbody>\n    <tr>\n      <th>0</th>\n      <td>1</td>\n      <td>0.78</td>\n    </tr>\n    <tr>\n      <th>1</th>\n      <td>7</td>\n      <td>0.60</td>\n    </tr>\n    <tr>\n      <th>2</th>\n      <td>14</td>\n      <td>0.53</td>\n    </tr>\n    <tr>\n      <th>3</th>\n      <td>21</td>\n      <td>0.50</td>\n    </tr>\n    <tr>\n      <th>4</th>\n      <td>30</td>\n      <td>0.45</td>\n    </tr>\n    <tr>\n      <th>5</th>\n      <td>60</td>\n      <td>0.37</td>\n    </tr>\n    <tr>\n      <th>6</th>\n      <td>90</td>\n      <td>0.33</td>\n    </tr>\n    <tr>\n      <th>7</th>\n      <td>180</td>\n      <td>0.27</td>\n    </tr>\n    <tr>\n      <th>8</th>\n      <td>365</td>\n      <td>0.21</td>\n    </tr>\n  </tbody>\n</table>\n</div>"
     },
     "execution_count": 11,
     "metadata": {},
     "output_type": "execute_result"
    }
   ],
   "source": [
    "xs = [1, 7, 14, 21, 30, 60, 90, 180, 365]\n",
    "prob = []\n",
    "for i in xs:\n",
    "    prob.append('{:.2f}'.format(kmf1.predict(i)))\n",
    "res = pd.DataFrame({'x' : xs, 'P(>x)': prob})\n",
    "res"
   ]
  },
  {
   "cell_type": "markdown",
   "metadata": {},
   "source": [
    "## Survival Anaylsis: Severity"
   ]
  },
  {
   "cell_type": "code",
   "execution_count": 14,
   "metadata": {},
   "outputs": [
    {
     "data": {
      "text/plain": "<AxesSubplot:xlabel='timeline'>"
     },
     "execution_count": 14,
     "metadata": {},
     "output_type": "execute_result"
    },
    {
     "data": {
      "text/plain": "<Figure size 864x288 with 1 Axes>",
      "image/png": "[encoded data removed]"
     },
     "metadata": {
      "needs_background": "light"
     },
     "output_type": "display_data"
    }
   ],
   "source": [
    "df_res1 = pd.DataFrame({'repository': project1, 'severity': severity1, 'time_to_fix': time_to_fix1,\n",
    "                       'observed': observed1, 'by': by1})\n",
    "df_res2 = pd.DataFrame({'repository': project2, 'severity': severity2, 'time_to_fix': time_to_fix2,\n",
    "                       'observed': observed2, 'by': by2})\n",
    "df_res3 = pd.DataFrame({'repository': project3, 'severity': severity3, 'time_to_fix': time_to_fix3,\n",
    "                       'observed': observed3, 'by': by3})\n",
    "\n",
    "plt.rcParams[\"figure.figsize\"] = (12, 4)\n",
    "ticks = plt.xticks(np.concatenate((np.array([1]), np.arange(30, 690, 30.0)), axis=0))\n",
    "## fit the model for 1st cohort\n",
    "kmf1 = KaplanMeierFitter()\n",
    "kmf1.fit(df_res1[df_res1['severity'] == 'CRITICAL']['time_to_fix'],\n",
    "         df_res1[df_res1['severity'] == 'CRITICAL']['observed'], label='Critical (P1)').plot()\n",
    "kmf1.fit(df_res2[df_res2['severity'] == 'CRITICAL']['time_to_fix'],\n",
    "         df_res2[df_res2['severity'] == 'CRITICAL']['observed'], label='Critical (P2)').plot()\n",
    "kmf1.fit(df_res3[df_res3['severity'] == 'CRITICAL']['time_to_fix'],\n",
    "         df_res3[df_res3['severity'] == 'CRITICAL']['observed'], label='Critical (P3)').plot()\n",
    "\n",
    "\n",
    "\n",
    "# a1 = kmf1.plot()\n",
    "\n",
    "# ## fit the model for 2nd cohort\n",
    "# kmf2 = KaplanMeierFitter()\n",
    "# kmf2.fit(df_res[df_res['severity'] == 'MODERATE']['time_to_fix'],\n",
    "#          df_res[df_res['severity'] == 'MODERATE']['observed'], label='moderate')\n",
    "# a2 = kmf2.plot(ax=a1)\n",
    "#\n",
    "# ## fit the model for 3rd cohort\n",
    "# kmf3 = KaplanMeierFitter()\n",
    "# kmf3.fit(df_res[df_res['severity'] == 'HIGH']['time_to_fix'],\n",
    "#          df_res[df_res['severity'] == 'HIGH']['observed'], label='high')\n",
    "# a3 = kmf3.plot(ax=a2)\n",
    "#\n",
    "# ## fit the model for 4th cohort\n",
    "# kmf4 = KaplanMeierFitter()\n",
    "# kmf4.fit(df_res[df_res['severity'] == 'CRITICAL']['time_to_fix'],\n",
    "#          df_res[df_res['severity'] == 'CRITICAL']['observed'], label='critical')\n",
    "# figure = kmf4.plot(ax=a3)\n",
    "# plt.xlabel(\"delay(in days)\")\n",
    "# plt.ylabel(\"survival probability\")\n",
    "# ticks = plt.xticks(np.concatenate((np.array([1]), np.arange(30, 630, 30.0)), axis=0))\n",
    "# plt.xlim([1, 620])\n",
    "# figure.get_figure().savefig(\"survival_analysis_severity.png\", dpi=800)\n",
    "#\n",
    "# # hamid\n",
    "# # total\n",
    "# kmf5 = KaplanMeierFitter()\n",
    "# kmf5.fit(df_res['time_to_fix'], df_res['observed'], label='total')"
   ]
  },
  {
   "cell_type": "code",
   "execution_count": 13,
   "metadata": {},
   "outputs": [
    {
     "ename": "NameError",
     "evalue": "name 'kmf2' is not defined",
     "output_type": "error",
     "traceback": [
      "\u001B[0;31m---------------------------------------------------------------------------\u001B[0m",
      "\u001B[0;31mNameError\u001B[0m                                 Traceback (most recent call last)",
      "Input \u001B[0;32mIn [13]\u001B[0m, in \u001B[0;36m<cell line: 6>\u001B[0;34m()\u001B[0m\n\u001B[1;32m      6\u001B[0m \u001B[38;5;28;01mfor\u001B[39;00m i \u001B[38;5;129;01min\u001B[39;00m xs:\n\u001B[1;32m      7\u001B[0m     low_prob\u001B[38;5;241m.\u001B[39mappend(\u001B[38;5;124m'\u001B[39m\u001B[38;5;132;01m{:.2f}\u001B[39;00m\u001B[38;5;124m'\u001B[39m\u001B[38;5;241m.\u001B[39mformat(kmf1\u001B[38;5;241m.\u001B[39mpredict(i)))\n\u001B[0;32m----> 8\u001B[0m     mod_prob\u001B[38;5;241m.\u001B[39mappend(\u001B[38;5;124m'\u001B[39m\u001B[38;5;132;01m{:.2f}\u001B[39;00m\u001B[38;5;124m'\u001B[39m\u001B[38;5;241m.\u001B[39mformat(\u001B[43mkmf2\u001B[49m\u001B[38;5;241m.\u001B[39mpredict(i)))\n\u001B[1;32m      9\u001B[0m     hig_prob\u001B[38;5;241m.\u001B[39mappend(\u001B[38;5;124m'\u001B[39m\u001B[38;5;132;01m{:.2f}\u001B[39;00m\u001B[38;5;124m'\u001B[39m\u001B[38;5;241m.\u001B[39mformat(kmf3\u001B[38;5;241m.\u001B[39mpredict(i)))\n\u001B[1;32m     10\u001B[0m     cri_prob\u001B[38;5;241m.\u001B[39mappend(\u001B[38;5;124m'\u001B[39m\u001B[38;5;132;01m{:.2f}\u001B[39;00m\u001B[38;5;124m'\u001B[39m\u001B[38;5;241m.\u001B[39mformat(kmf4\u001B[38;5;241m.\u001B[39mpredict(i)))\n",
      "\u001B[0;31mNameError\u001B[0m: name 'kmf2' is not defined"
     ]
    }
   ],
   "source": [
    "low_prob = []\n",
    "mod_prob = []\n",
    "hig_prob = []\n",
    "cri_prob = []\n",
    "total_prob = []\n",
    "for i in xs:\n",
    "    low_prob.append('{:.2f}'.format(kmf1.predict(i)))\n",
    "    mod_prob.append('{:.2f}'.format(kmf2.predict(i)))\n",
    "    hig_prob.append('{:.2f}'.format(kmf3.predict(i)))\n",
    "    cri_prob.append('{:.2f}'.format(kmf4.predict(i)))\n",
    "    total_prob.append('{:.2f}'.format(kmf5.predict(i)))\n",
    "res = pd.DataFrame({'x' : xs, 'low': low_prob, 'moderate': mod_prob, 'high': hig_prob, 'critical': cri_prob, 'total': total_prob})\n",
    "res"
   ]
  },
  {
   "cell_type": "code",
   "execution_count": null,
   "metadata": {},
   "outputs": [],
   "source": [
    "for a, b in itertools.combinations(['LOW', 'MODERATE', 'HIGH', 'CRITICAL'], 2):\n",
    "    test = logrank_test(df_res[df_res['severity'] == a]['time_to_fix'],\n",
    "                        df_res[df_res['severity'] == b]['time_to_fix'],\n",
    "                        df_res[df_res['severity'] == a]['observed'],\n",
    "                        df_res[df_res['severity'] == b]['observed'])\n",
    "    print('{} ~ {}: {:.3f} (p-value: {}) reject?: {}'.format(\n",
    "        a, b, \n",
    "        test.test_statistic, test.p_value, test.p_value < 0.05/6\n",
    "    ))"
   ]
  },
  {
   "cell_type": "markdown",
   "metadata": {},
   "source": [
    "## Bot Fix vs Human Fix"
   ]
  },
  {
   "cell_type": "code",
   "execution_count": null,
   "metadata": {},
   "outputs": [],
   "source": [
    "groups = []\n",
    "df_res_group = df_res.merge(pr_nums, how='inner', on=['repository']).copy()\n",
    "for index, row in df_res_group.iterrows():\n",
    "    if (row['prs'] > 0) & (row['prs'] < 3):\n",
    "        groups.append(0)\n",
    "    elif (row['prs'] > 2) & (row['prs'] < 5):\n",
    "        groups.append(1)\n",
    "    elif (row['prs'] > 4) & (row['prs'] < 11):\n",
    "        groups.append(2)\n",
    "    elif (row['prs'] > 10) & (row['prs'] < 68):\n",
    "        groups.append(3)\n",
    "df_res_group['group'] = groups\n",
    "df_res_group = df_res_group.sort_values('group')"
   ]
  },
  {
   "cell_type": "code",
   "execution_count": null,
   "metadata": {},
   "outputs": [],
   "source": [
    "plt.rcParams[\"figure.figsize\"] = (20,5)\n",
    "ax = sns.violinplot(y='by', x='time_to_fix',\n",
    "                    data=df_res_group[df_res_group['observed']], cut=0,\n",
    "                    bw=.15, orient='h', linewidth=3, alpha = 0.4)\n",
    "ok = plt.xticks(np.concatenate((np.array([1]), np.arange(30, 570, 30.0)), axis=0))\n",
    "plt.xlabel(\"time to fix (in days)\")\n",
    "plt.savefig(\"violin_fixes.png\", dpi=800)"
   ]
  },
  {
   "cell_type": "code",
   "execution_count": null,
   "metadata": {},
   "outputs": [],
   "source": [
    "mannwhitneyu(df_res_group[(df_res_group['by'] == 'human') & (df_res_group['group'] == 0)]['time_to_fix'],\n",
    "             df_res_group[(df_res_group['by'] == 'human') & (df_res_group['group'] == 1)]['time_to_fix'])"
   ]
  },
  {
   "cell_type": "code",
   "execution_count": null,
   "metadata": {},
   "outputs": [],
   "source": [
    "plt.rcParams[\"figure.figsize\"] = (20,10)\n",
    "ax = sns.violinplot(y='group', x='time_to_fix',\n",
    "                    data=df_res_group[df_res_group['observed']], cut=0,\n",
    "                    bw=.65, hue='by', orient='h', linewidth=3,\n",
    "                    order=[0, 1, 2, 3], alpha = 0.4)\n",
    "\n",
    "for violin, alpha in zip(ax.collections[::2], range(8)):\n",
    "    violin.set_alpha(0.4)"
   ]
  },
  {
   "cell_type": "code",
   "execution_count": null,
   "outputs": [],
   "source": [
    "by_human = df_res_group[(df_res_group['by'] == 'human')]\n",
    "by_bot = df_res_group[(df_res_group['by'] == 'bot')]\n",
    "\n",
    "days = range(60) # 2 month\n",
    "bot_fix_days = {}\n",
    "human_fix_days = {}\n",
    "for i in days:\n",
    "    bot_fix_days['day-' + str(i)] = len(by_bot[by_bot['time_to_fix'] <= i]) / len(by_bot)\n",
    "    human_fix_days['day-' + str(i)] = len(by_human[by_human['time_to_fix'] < i]) / len(by_human)"
   ],
   "metadata": {
    "collapsed": false
   }
  }
 ],
 "metadata": {
  "kernelspec": {
   "display_name": "Python 3",
   "language": "python",
   "name": "python3"
  },
  "language_info": {
   "codemirror_mode": {
    "name": "ipython",
    "version": 3
   },
   "file_extension": ".py",
   "mimetype": "text/x-python",
   "name": "python",
   "nbconvert_exporter": "python",
   "pygments_lexer": "ipython3",
   "version": "3.8.2"
  }
 },
 "nbformat": 4,
 "nbformat_minor": 4
}
