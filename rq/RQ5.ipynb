{
 "cells": [
  {
   "cell_type": "code",
   "id": "initial_id",
   "metadata": {
    "collapsed": true,
    "ExecuteTime": {
     "end_time": "2024-10-17T19:22:53.066659Z",
     "start_time": "2024-10-17T19:22:53.060772Z"
    }
   },
   "source": [
    "import math\n",
    "\n",
    "import pandas as pd\n",
    "import const\n",
    "import seaborn as sns\n",
    "import matplotlib.pyplot as plt\n",
    "from scipy.stats import mannwhitneyu\n",
    "import scipy.stats as stats\n",
    "from collection.extension.util.general_util import str_to_date, get_max_severity\n",
    "from scipy.stats import chi2_contingency\n",
    "import numpy as np"
   ],
   "outputs": [],
   "execution_count": 1
  },
  {
   "cell_type": "code",
   "source": [
    "fixes_records = pd.read_csv(\n",
    "    const.DIR_EXTENSION + '/data/manual_fixes_inspired.csv',\n",
    "    dtype={'dep_file_fix': bool, 'lockfile_fix': bool, 'dep_file_inspired': bool, 'lockfile_inspired': bool, 'inspired': bool}\n",
    ")"
   ],
   "metadata": {
    "collapsed": false,
    "ExecuteTime": {
     "end_time": "2024-10-17T19:22:53.199536Z",
     "start_time": "2024-10-17T19:22:53.185058Z"
    }
   },
   "id": "68dce711508f099c",
   "outputs": [],
   "execution_count": 2
  },
  {
   "cell_type": "code",
   "source": [
    "print('All fixes done by human: %d' % (len(fixes_records),))"
   ],
   "metadata": {
    "collapsed": false,
    "ExecuteTime": {
     "end_time": "2024-10-17T19:22:53.212003Z",
     "start_time": "2024-10-17T19:22:53.208761Z"
    }
   },
   "id": "808d37033f59d4ad",
   "outputs": [
    {
     "name": "stdout",
     "output_type": "stream",
     "text": [
      "All fixes done by human: 1507\n"
     ]
    }
   ],
   "execution_count": 3
  },
  {
   "cell_type": "code",
   "source": [
    "dep_or_lock_fixes = fixes_records[\n",
    "    (fixes_records['dep_file_fix'] == True) | fixes_records['lockfile_fix'] == True\n",
    "]\n",
    "\n",
    "print('All records with a fix version in the dep and/or lock file: %d' % (len(dep_or_lock_fixes)))"
   ],
   "metadata": {
    "collapsed": false,
    "ExecuteTime": {
     "end_time": "2024-10-17T19:22:53.226536Z",
     "start_time": "2024-10-17T19:22:53.221984Z"
    }
   },
   "id": "ca4e3e3fa02fc908",
   "outputs": [
    {
     "name": "stdout",
     "output_type": "stream",
     "text": [
      "All records with a fix version in the dep and/or lock file: 983\n"
     ]
    }
   ],
   "execution_count": 4
  },
  {
   "cell_type": "code",
   "source": [
    "dep_file_fixes = fixes_records[fixes_records['dep_file_fix'] == True]\n",
    "\n",
    "print('Number of fixes done through dependency file: %d' % (len(dep_file_fixes)))\n",
    "\n",
    "lockfile_fixes = fixes_records[fixes_records['lockfile_fix'] == True]\n",
    "\n",
    "print('Number of fixes done through lockfile: %d' % (len(lockfile_fixes)))"
   ],
   "metadata": {
    "collapsed": false,
    "ExecuteTime": {
     "end_time": "2024-10-17T19:22:53.244962Z",
     "start_time": "2024-10-17T19:22:53.240139Z"
    }
   },
   "id": "2d43c7697134b928",
   "outputs": [
    {
     "name": "stdout",
     "output_type": "stream",
     "text": [
      "Number of fixes done through dependency file: 266\n",
      "Number of fixes done through lockfile: 931\n"
     ]
    }
   ],
   "execution_count": 5
  },
  {
   "cell_type": "markdown",
   "source": [],
   "metadata": {
    "collapsed": false
   },
   "id": "881291d64b836732"
  },
  {
   "cell_type": "code",
   "source": [
    "fixes_records.groupby(['inspired'])['inspired'].count().to_frame().rename(columns={'inspired':'count'})"
   ],
   "metadata": {
    "collapsed": false,
    "ExecuteTime": {
     "end_time": "2024-10-17T19:22:53.263612Z",
     "start_time": "2024-10-17T19:22:53.252428Z"
    }
   },
   "id": "6437f3460fa43f68",
   "outputs": [
    {
     "data": {
      "text/plain": [
       "          count\n",
       "inspired       \n",
       "False      1287\n",
       "True        220"
      ],
      "text/html": [
       "<div>\n",
       "<style scoped>\n",
       "    .dataframe tbody tr th:only-of-type {\n",
       "        vertical-align: middle;\n",
       "    }\n",
       "\n",
       "    .dataframe tbody tr th {\n",
       "        vertical-align: top;\n",
       "    }\n",
       "\n",
       "    .dataframe thead th {\n",
       "        text-align: right;\n",
       "    }\n",
       "</style>\n",
       "<table border=\"1\" class=\"dataframe\">\n",
       "  <thead>\n",
       "    <tr style=\"text-align: right;\">\n",
       "      <th></th>\n",
       "      <th>count</th>\n",
       "    </tr>\n",
       "    <tr>\n",
       "      <th>inspired</th>\n",
       "      <th></th>\n",
       "    </tr>\n",
       "  </thead>\n",
       "  <tbody>\n",
       "    <tr>\n",
       "      <th>False</th>\n",
       "      <td>1287</td>\n",
       "    </tr>\n",
       "    <tr>\n",
       "      <th>True</th>\n",
       "      <td>220</td>\n",
       "    </tr>\n",
       "  </tbody>\n",
       "</table>\n",
       "</div>"
      ]
     },
     "execution_count": 6,
     "metadata": {},
     "output_type": "execute_result"
    }
   ],
   "execution_count": 6
  },
  {
   "cell_type": "code",
   "source": [
    "inspired_fixes = fixes_records[fixes_records['inspired'] == 1]\n",
    "\n",
    "print('Inspired %d out of %d -> %.2f%%' % (len(inspired_fixes), len(fixes_records), len(inspired_fixes) * 100 / len(fixes_records),))"
   ],
   "metadata": {
    "collapsed": false,
    "ExecuteTime": {
     "end_time": "2024-10-17T19:22:53.312250Z",
     "start_time": "2024-10-17T19:22:53.307697Z"
    }
   },
   "id": "db5ead7a2a89b00e",
   "outputs": [
    {
     "name": "stdout",
     "output_type": "stream",
     "text": [
      "Inspired 220 out of 1507 -> 14.60%\n"
     ]
    }
   ],
   "execution_count": 7
  },
  {
   "cell_type": "code",
   "source": [
    "print('Dependency file inspired: %d out of %d -> %.2f%%' % (\n",
    "    sum(dep_file_fixes['dep_file_inspired'] == 1),\n",
    "    len(fixes_records),\n",
    "    sum(dep_file_fixes['dep_file_inspired'] == 1) * 100 / len(fixes_records),\n",
    "))"
   ],
   "metadata": {
    "collapsed": false,
    "ExecuteTime": {
     "end_time": "2024-10-17T19:22:53.345465Z",
     "start_time": "2024-10-17T19:22:53.341596Z"
    }
   },
   "id": "9752bd8f6cbe31a3",
   "outputs": [
    {
     "name": "stdout",
     "output_type": "stream",
     "text": [
      "Dependency file inspired: 45 out of 1507 -> 2.99%\n"
     ]
    }
   ],
   "execution_count": 8
  },
  {
   "cell_type": "code",
   "source": [
    "print('Lockfile inspired: %d out of %d -> %.2f%%' % (\n",
    "    sum(lockfile_fixes['lockfile_inspired'] == 1),\n",
    "    len(fixes_records),\n",
    "    sum(lockfile_fixes['lockfile_inspired'] == 1) * 100 / len(fixes_records),\n",
    "))"
   ],
   "metadata": {
    "collapsed": false,
    "ExecuteTime": {
     "end_time": "2024-10-17T19:22:53.391704Z",
     "start_time": "2024-10-17T19:22:53.388032Z"
    }
   },
   "id": "a99199978b350e68",
   "outputs": [
    {
     "name": "stdout",
     "output_type": "stream",
     "text": [
      "Lockfile inspired: 203 out of 1507 -> 13.47%\n"
     ]
    }
   ],
   "execution_count": 9
  },
  {
   "cell_type": "code",
   "source": [
    "inspired_fix_time = inspired_fixes['fix_time'].apply(lambda x: int(x.split(',')[0]))\n",
    "len(inspired_fix_time)\n",
    "print('Median: %.2f / Mean: %.2f' % (inspired_fix_time.median(), inspired_fix_time.mean()))\n",
    "print('75% quantile:', inspired_fix_time.quantile(0.75))"
   ],
   "metadata": {
    "collapsed": false,
    "ExecuteTime": {
     "end_time": "2024-10-17T19:22:53.414203Z",
     "start_time": "2024-10-17T19:22:53.409371Z"
    }
   },
   "id": "faba7563471ae3f7",
   "outputs": [
    {
     "name": "stdout",
     "output_type": "stream",
     "text": [
      "Median: 68.50 / Mean: 108.38\n",
      "75% quantile: 136.0\n"
     ]
    }
   ],
   "execution_count": 10
  },
  {
   "cell_type": "code",
   "source": [
    "boxen = sns.boxenplot(x=inspired_fix_time)\n",
    "boxen.set(xlabel='Days', ylabel='')\n",
    "plt.title('Inspired fixes')\n",
    "plt.show()"
   ],
   "metadata": {
    "collapsed": false,
    "ExecuteTime": {
     "end_time": "2024-10-17T19:22:53.649263Z",
     "start_time": "2024-10-17T19:22:53.508517Z"
    }
   },
   "id": "9c6c452afbf44e75",
   "outputs": [
    {
     "data": {
      "text/plain": [
       "<Figure size 640x480 with 1 Axes>"
      ],
      "image/png": "[encoded data removed]"
     },
     "metadata": {},
     "output_type": "display_data"
    }
   ],
   "execution_count": 11
  },
  {
   "cell_type": "code",
   "source": [
    "non_inspired_fixes = fixes_records[fixes_records['inspired'] == 0] \n",
    "print(len(non_inspired_fixes))\n",
    "\n",
    "non_inspired_fixes = non_inspired_fixes[\n",
    "    ~non_inspired_fixes['fix_time'].isnull()\n",
    "]\n",
    "print(len(non_inspired_fixes))\n",
    "\n",
    "non_inspired_time = non_inspired_fixes['fix_time'].apply(lambda x: int(x.split(',')[0]))\n",
    "print('Median: %.2f / Mean: %.2f' % (non_inspired_time.median(), non_inspired_time.mean()))\n",
    "\n",
    "print('75% quantile:', non_inspired_time.quantile(0.75))"
   ],
   "metadata": {
    "collapsed": false,
    "ExecuteTime": {
     "end_time": "2024-10-17T19:22:53.657101Z",
     "start_time": "2024-10-17T19:22:53.650731Z"
    }
   },
   "id": "403926cafc71e700",
   "outputs": [
    {
     "name": "stdout",
     "output_type": "stream",
     "text": [
      "1287\n",
      "763\n",
      "Median: 44.00 / Mean: 97.29\n",
      "75% quantile: 145.0\n"
     ]
    }
   ],
   "execution_count": 12
  },
  {
   "cell_type": "code",
   "source": [
    "boxen = sns.boxenplot(x=non_inspired_time)\n",
    "boxen.set(xlabel='Days', ylabel='')\n",
    "plt.title('Non-inspired fixes')\n",
    "plt.show()"
   ],
   "metadata": {
    "collapsed": false,
    "ExecuteTime": {
     "end_time": "2024-10-17T19:22:53.805147Z",
     "start_time": "2024-10-17T19:22:53.657887Z"
    }
   },
   "id": "eb0c3d926a2ccb80",
   "outputs": [
    {
     "data": {
      "text/plain": [
       "<Figure size 640x480 with 1 Axes>"
      ],
      "image/png": "[encoded data removed]"
     },
     "metadata": {},
     "output_type": "display_data"
    }
   ],
   "execution_count": 13
  },
  {
   "cell_type": "code",
   "source": [
    "pd.options.mode.chained_assignment = None \n",
    "\n",
    "fix_time_df = fixes_records[~fixes_records['fix_time'].isnull()]\n",
    "fix_time_df['fix_time_day'] = fix_time_df.apply(lambda r: int(r['fix_time'].split(',')[0]), axis=1)\n",
    "fix_time_df['inspired'] = fix_time_df['inspired'].astype(str)\n",
    "# fix_time_df = fix_time_df[fix_time_df['fix_time_day'] < 14]"
   ],
   "metadata": {
    "collapsed": false,
    "ExecuteTime": {
     "end_time": "2024-10-17T19:22:53.816399Z",
     "start_time": "2024-10-17T19:22:53.806809Z"
    }
   },
   "id": "4eef620ec1a982a4",
   "outputs": [],
   "execution_count": 14
  },
  {
   "cell_type": "code",
   "source": [
    "fig, ax = plt.subplots()\n",
    "\n",
    "ax = sns.boxenplot(data=fix_time_df, x='fix_time_day', y='inspired', ax=ax)\n",
    "ax.set(xlabel='Days', ylabel='Inspired')\n",
    "\n",
    "ax.grid(None)\n",
    "ax.spines['bottom'].set_color('0.4')\n",
    "ax.spines['top'].set_color('0.4')\n",
    "ax.spines['right'].set_color('0.4')\n",
    "ax.spines['left'].set_color('0.4')\n",
    "\n",
    "plt.title('')\n",
    "plt.show()\n",
    "\n",
    "plt.subplots_adjust(bottom=0.2)\n",
    "\n",
    "\n",
    "ax.get_figure().savefig('RQ5-fixing-time.png', dpi=800, transparent=True)"
   ],
   "metadata": {
    "collapsed": false,
    "ExecuteTime": {
     "end_time": "2024-10-17T19:22:54.614503Z",
     "start_time": "2024-10-17T19:22:53.817389Z"
    }
   },
   "id": "b65e5a0e05a00547",
   "outputs": [
    {
     "data": {
      "text/plain": [
       "<Figure size 640x480 with 1 Axes>"
      ],
      "image/png": "[encoded data removed]"
     },
     "metadata": {},
     "output_type": "display_data"
    },
    {
     "data": {
      "text/plain": [
       "<Figure size 640x480 with 0 Axes>"
      ]
     },
     "metadata": {},
     "output_type": "display_data"
    }
   ],
   "execution_count": 15
  },
  {
   "cell_type": "code",
   "source": [
    "# # calculate fix_time for all non-inspired cases, not the ones that we could find a fixing version in their lock/dep file\n",
    "# security_updates = pd.read_csv(const.CSV_DATA['pr_vulnerabilities'])\n",
    "# fix_time_df = fixes_records.copy(deep=True)\n",
    "# \n",
    "# fix_time_column = []\n",
    "# for i, row in fix_time_df.iterrows():\n",
    "#     if row['inspired'] == 1:\n",
    "#         fix_time_column.append(row['fix_time'])\n",
    "#         continue\n",
    "#     \n",
    "#     prs = security_updates[\n",
    "#         (security_updates['repository'] == row['repository']) &\n",
    "#         (security_updates['package'] == row['package']) &\n",
    "#         (security_updates['state'] != 'MERGED')\n",
    "#     ]\n",
    "# \n",
    "#     mft = None\n",
    "#     for j, pr in prs.iterrows():\n",
    "#         d = str_to_date(pr['date'], '%Y-%m-%dT%H:%M:%S%z')\n",
    "#         if mft is None:\n",
    "#             mft = d\n",
    "#         elif d > mft:\n",
    "#             mft = d\n",
    "#     \n",
    "#     if mft is None:\n",
    "#         fix_time_column.append(None)\n",
    "#         continue\n",
    "#     \n",
    "#     # G 2020-01-22 15:51:10-03:00 -> %Y-%m-%d %H:%M:%S%z\n",
    "# # SE 2019-09-12T17:16:59+05:00 -> %Y-%m-%dT%H:%M:%S%z\n",
    "#     try:\n",
    "#         fix_date = str_to_date(row['date'], '%Y-%m-%dT%H:%M:%S%z')\n",
    "#     except:\n",
    "#         fix_date = str_to_date(row['date'], '%Y-%m-%d %H:%M:%S%z')\n",
    "#     delta = fix_date - mft\n",
    "#     if delta.days < 0:\n",
    "#         fix_time_column.append(None)\n",
    "#         continue\n",
    "# \n",
    "#     fix_time_column.append(str(delta.days) + \",\" + str(delta.seconds // 3600)) \n",
    "#     \n",
    "# fix_time_df['fix_time'] = fix_time_column\n",
    "# \n",
    "# fix_time_df = fix_time_df[~fix_time_df['fix_time'].isnull()]\n",
    "# \n",
    "# fix_time_df['fix_time_day'] = fix_time_df.apply(lambda r: int(r['fix_time'].split(',')[0]), axis=1)\n",
    "# fix_time_df['inspired'] = fix_time_df['inspired'].astype(str)\n",
    "# \n",
    "# fig, ax = plt.subplots()\n",
    "# \n",
    "# boxen = sns.boxenplot(data=fix_time_df, x='fix_time_day', y='inspired', ax=ax)\n",
    "# boxen.set(xlabel='Days', ylabel='Inspired')\n",
    "# plt.title('Fixing time')\n",
    "# plt.show()"
   ],
   "metadata": {
    "collapsed": false,
    "ExecuteTime": {
     "end_time": "2024-10-17T19:22:54.618368Z",
     "start_time": "2024-10-17T19:22:54.615472Z"
    }
   },
   "id": "a820625d5f8400f9",
   "outputs": [],
   "execution_count": 16
  },
  {
   "cell_type": "code",
   "source": [
    "g1 = (fix_time_df[fix_time_df['inspired'] == 'True'])['fix_time_day'].values.tolist()\n",
    "g2 = (fix_time_df[fix_time_df['inspired'] == 'False'])['fix_time_day'].values.tolist()\n",
    "\n",
    "print(len(g1))\n",
    "print(len(g2))"
   ],
   "metadata": {
    "collapsed": false,
    "ExecuteTime": {
     "end_time": "2024-10-17T19:22:54.624842Z",
     "start_time": "2024-10-17T19:22:54.619492Z"
    }
   },
   "id": "7fc13ac66dd1a5a5",
   "outputs": [
    {
     "name": "stdout",
     "output_type": "stream",
     "text": [
      "220\n",
      "763\n"
     ]
    }
   ],
   "execution_count": 17
  },
  {
   "cell_type": "code",
   "source": [
    "# check to see if data is normally distributed\n",
    "w, p_value = stats.shapiro(g1)\n",
    "print('w: %f, p-value: %.40f, %s normally distributed' % (w, p_value, 'not' if p_value < 0.05 else ''))\n",
    "\n",
    "w, p_value = stats.shapiro(g2)\n",
    "print('w: %f, p-value: %.40f, %s normally distributed' % (w, p_value, 'not' if p_value < 0.05 else ''))"
   ],
   "metadata": {
    "collapsed": false,
    "ExecuteTime": {
     "end_time": "2024-10-17T19:22:54.629591Z",
     "start_time": "2024-10-17T19:22:54.625977Z"
    }
   },
   "id": "7588852acd20bf2c",
   "outputs": [
    {
     "name": "stdout",
     "output_type": "stream",
     "text": [
      "w: 0.786096, p-value: 0.0000000000000001218896081704775512894359, not normally distributed\n",
      "w: 0.787949, p-value: 0.0000000000000000000000000000024566694442, not normally distributed\n"
     ]
    }
   ],
   "execution_count": 18
  },
  {
   "cell_type": "code",
   "source": [
    "# check if inspired/non-inspired are statistically different\n",
    "# hypothesis: if the two groups come from same population\n",
    "\n",
    "U1, p = mannwhitneyu(x=g1, y=g2)\n",
    "print(U1, p)\n",
    "print('Hypothesis %s' % ('rejected' if p < 0.05 else 'verified'))\n",
    "\n",
    "n1 = len(g1)\n",
    "n2 = len(g2)\n",
    "\n",
    "z = (U1 - (n1 * n2 / 2)) / math.sqrt((n1 * n2 * (n1 + n2 + 1)) / 12)\n",
    "print('Z-score:', z)\n",
    "r = z / math.sqrt(n1 + n2)\n",
    "print('r (effect size):', r)"
   ],
   "metadata": {
    "collapsed": false,
    "ExecuteTime": {
     "end_time": "2024-10-17T19:22:54.635318Z",
     "start_time": "2024-10-17T19:22:54.630183Z"
    }
   },
   "id": "2896d0cc9b693c5a",
   "outputs": [
    {
     "name": "stdout",
     "output_type": "stream",
     "text": [
      "90397.5 0.08102405870060532\n",
      "Hypothesis verified\n",
      "Z-score: 1.7432348590516058\n",
      "r (effect size): 0.05560055707373933\n"
     ]
    }
   ],
   "execution_count": 19
  },
  {
   "cell_type": "code",
   "source": [
    "g1 = (fix_time_df[(fix_time_df['inspired'] == 'True') & (fix_time_df['fix_time_day'] <= 365)])['fix_time_day'].values.tolist()\n",
    "g2 = (fix_time_df[(fix_time_df['inspired'] == 'False') & (fix_time_df['fix_time_day'] <= 365)])['fix_time_day'].values.tolist()\n",
    "\n",
    "U1, p = mannwhitneyu(x=g1, y=g2)\n",
    "print(U1, p)\n",
    "print('Hypothesis %s' % ('rejected' if p < 0.05 else 'verified'))"
   ],
   "metadata": {
    "collapsed": false,
    "ExecuteTime": {
     "end_time": "2024-10-17T19:22:54.644287Z",
     "start_time": "2024-10-17T19:22:54.637174Z"
    }
   },
   "id": "67c4b9e0377df977",
   "outputs": [
    {
     "name": "stdout",
     "output_type": "stream",
     "text": [
      "77749.5 0.21710147314409423\n",
      "Hypothesis verified\n"
     ]
    }
   ],
   "execution_count": 20
  },
  {
   "cell_type": "code",
   "source": [
    "hypothesis = []\n",
    "for i, row in fixes_records.iterrows():\n",
    "    records = fixes_records[fixes_records['repository'] == row['repository']]\n",
    "    if len(records) < 4: # minimum sample size\n",
    "        continue\n",
    "    \n",
    "    inspired = records[records['inspired'] == 1]\n",
    "    non_inspired = records[records['inspired'] == 0]\n",
    "    \n",
    "    if len(inspired) == 0 or len(non_inspired) == 0:\n",
    "        continue\n",
    "    \n",
    "    #print('All %d / Inspired %d / Non-inspired %d' % (len(records), len(inspired), len(non_inspired)))\n",
    "    \n",
    "    time_df = records[~records['fix_time'].isnull()]\n",
    "    time_df['fix_time_day'] = fix_time_df.apply(lambda r: int(r['fix_time'].split(',')[0]), axis=1)\n",
    "    \n",
    "    if len(time_df) < 4:\n",
    "        continue\n",
    "    \n",
    "    g1 = (time_df[time_df['inspired'] == True])['fix_time_day'].values.tolist()\n",
    "    g2 = (time_df[time_df['inspired'] == False])['fix_time_day'].values.tolist()\n",
    "    \n",
    "    U1, p = mannwhitneyu(x=g1, y=g2)\n",
    "    #print(U1, p)\n",
    "    #print('Hypothesis %s' % ('rejected' if p < 0.05 else 'verified'))\n",
    "    \n",
    "    hypothesis.append(0 if p < 0.05 else 1)\n",
    "    \n",
    "\n",
    "verified = 0\n",
    "for h in hypothesis:\n",
    "    if h == 1:\n",
    "        verified += 1\n",
    "\n",
    "print('Hypothesis %d, Verified: %d -> %.2f%%' % (len(hypothesis), verified, 100 * verified / len(hypothesis)))\n"
   ],
   "metadata": {
    "collapsed": false,
    "ExecuteTime": {
     "end_time": "2024-10-17T19:22:58.529479Z",
     "start_time": "2024-10-17T19:22:54.645288Z"
    }
   },
   "id": "19fa46f9bf023353",
   "outputs": [
    {
     "name": "stdout",
     "output_type": "stream",
     "text": [
      "Hypothesis 457, Verified: 430 -> 94.09%\n"
     ]
    }
   ],
   "execution_count": 21
  },
  {
   "metadata": {
    "ExecuteTime": {
     "end_time": "2024-10-17T19:22:58.795740Z",
     "start_time": "2024-10-17T19:22:58.530493Z"
    }
   },
   "cell_type": "code",
   "source": [
    "security_updates = pd.read_csv(const.CSV_DATA['pr_vulnerabilities'])\n",
    "\n",
    "severities = []\n",
    "\n",
    "for idx, row in inspired_fixes.iterrows():\n",
    "    records = security_updates[\n",
    "        (security_updates['repository'] == row['repository']) & \n",
    "        (security_updates['package'] == row['package']) &\n",
    "        (security_updates['maximal_severity'].notnull())\n",
    "    ]\n",
    "\n",
    "    sev = None\n",
    "    if len(records) == 1:\n",
    "        sev = records.iloc[0]['maximal_severity']\n",
    "    else:\n",
    "        sev_set = set(records['maximal_severity'].tolist())\n",
    "        if len(sev_set) == 1:\n",
    "            sev = sev_set.pop()\n",
    "        else:\n",
    "            sev = get_max_severity(sev_set)\n",
    "\n",
    "    severities.append(sev)\n",
    "\n",
    "inspired_fixes['severity'] = severities"
   ],
   "id": "b3c5f148f2816869",
   "outputs": [],
   "execution_count": 22
  },
  {
   "metadata": {
    "ExecuteTime": {
     "end_time": "2024-10-17T19:22:58.803353Z",
     "start_time": "2024-10-17T19:22:58.796813Z"
    }
   },
   "cell_type": "code",
   "source": [
    "critical_df = inspired_fixes[inspired_fixes['severity'] == 'CRITICAL']\n",
    "high_df = inspired_fixes[inspired_fixes['severity'] == 'HIGH']\n",
    "moderate_df = inspired_fixes[inspired_fixes['severity'] == 'MODERATE']\n",
    "low_df = inspired_fixes[inspired_fixes['severity'] == 'LOW']\n",
    "\n",
    "print('critical -- %.2f%% (%d)' % (100 * len(critical_df) / len(inspired_fixes), len(critical_df)))\n",
    "print('high -- %.2f%% (%d)' % (100 * len(high_df) / len(inspired_fixes), len(high_df)))\n",
    "print('moderate -- %.2f%% (%d)' % (100 * len(moderate_df) / len(inspired_fixes), len(moderate_df)))\n",
    "print('low -- %.2f%% (%d)' % (100 * len(low_df) / len(inspired_fixes), len(low_df)))\n"
   ],
   "id": "8f34ac13bb652ebb",
   "outputs": [
    {
     "name": "stdout",
     "output_type": "stream",
     "text": [
      "critical -- 6.82% (15)\n",
      "high -- 45.00% (99)\n",
      "moderate -- 43.18% (95)\n",
      "low -- 5.00% (11)\n"
     ]
    }
   ],
   "execution_count": 23
  },
  {
   "metadata": {
    "ExecuteTime": {
     "end_time": "2024-10-17T19:22:59.714877Z",
     "start_time": "2024-10-17T19:22:58.805044Z"
    }
   },
   "cell_type": "code",
   "source": [
    "severities = []\n",
    "\n",
    "for idx, row in non_inspired_fixes.iterrows():\n",
    "    records = security_updates[\n",
    "        (security_updates['repository'] == row['repository']) & \n",
    "        (security_updates['package'] == row['package']) &\n",
    "        (security_updates['maximal_severity'].notnull())\n",
    "    ]\n",
    "\n",
    "    sev = None\n",
    "    if len(records) == 1:\n",
    "        sev = records.iloc[0]['maximal_severity']\n",
    "    else:\n",
    "        sev_set = set(records['maximal_severity'].tolist())\n",
    "        if len(sev_set) == 1:\n",
    "            sev = sev_set.pop()\n",
    "        else:\n",
    "            sev = get_max_severity(sev_set)\n",
    "\n",
    "    severities.append(sev)\n",
    "\n",
    "non_inspired_fixes['severity'] = severities"
   ],
   "id": "a8cb96cc1e26c59e",
   "outputs": [],
   "execution_count": 24
  },
  {
   "metadata": {
    "ExecuteTime": {
     "end_time": "2024-10-17T19:22:59.721609Z",
     "start_time": "2024-10-17T19:22:59.715795Z"
    }
   },
   "cell_type": "code",
   "source": [
    "critical_df = non_inspired_fixes[non_inspired_fixes['severity'] == 'CRITICAL']\n",
    "high_df = non_inspired_fixes[non_inspired_fixes['severity'] == 'HIGH']\n",
    "moderate_df = non_inspired_fixes[non_inspired_fixes['severity'] == 'MODERATE']\n",
    "low_df = non_inspired_fixes[non_inspired_fixes['severity'] == 'LOW']\n",
    "\n",
    "print('* non-inspired:')\n",
    "print('critical -- %.2f%% (%d)' % (100 * len(critical_df) / len(non_inspired_fixes), len(critical_df)))\n",
    "print('high -- %.2f%% (%d)' % (100 * len(high_df) / len(non_inspired_fixes), len(high_df)))\n",
    "print('moderate -- %.2f%% (%d)' % (100 * len(moderate_df) / len(non_inspired_fixes), len(moderate_df)))\n",
    "print('low -- %.2f%% (%d)' % (100 * len(low_df) / len(non_inspired_fixes), len(low_df)))\n"
   ],
   "id": "9a90d9f8f4b1ec7",
   "outputs": [
    {
     "name": "stdout",
     "output_type": "stream",
     "text": [
      "* non-inspired:\n",
      "critical -- 10.88% (83)\n",
      "high -- 50.07% (382)\n",
      "moderate -- 28.83% (220)\n",
      "low -- 10.22% (78)\n"
     ]
    }
   ],
   "execution_count": 25
  },
  {
   "metadata": {
    "ExecuteTime": {
     "end_time": "2024-10-17T19:22:59.738859Z",
     "start_time": "2024-10-17T19:22:59.722958Z"
    }
   },
   "cell_type": "code",
   "source": [
    "sev_count1 = non_inspired_fixes.groupby('severity', as_index=False).count()['repository'].tolist()\n",
    "sev_count2 = inspired_fixes.groupby('severity', as_index=False).count()['repository'].tolist()\n",
    "\n",
    "print(sev_count1, sev_count2)\n",
    "\n",
    "table = np.array([sev_count1, sev_count2])\n",
    "res = chi2_contingency(table)\n",
    "\n",
    "print(res)"
   ],
   "id": "2a13b6af9c96f938",
   "outputs": [
    {
     "name": "stdout",
     "output_type": "stream",
     "text": [
      "[83, 382, 78, 220] [15, 99, 11, 95]\n",
      "Chi2ContingencyResult(statistic=19.834267306868746, pvalue=0.0001837090940563091, dof=3, expected_freq=array([[ 76.0671414 , 373.34994914,  69.08138352, 244.50152594],\n",
      "       [ 21.9328586 , 107.65005086,  19.91861648,  70.49847406]]))\n"
     ]
    }
   ],
   "execution_count": 26
  },
  {
   "metadata": {
    "ExecuteTime": {
     "end_time": "2024-10-17T19:22:59.747833Z",
     "start_time": "2024-10-17T19:22:59.740187Z"
    }
   },
   "cell_type": "code",
   "source": [
    "def severity_to_int(sev_str):\n",
    "    if sev_str == 'CRITICAL':\n",
    "        return 4\n",
    "    elif sev_str == 'HIGH':\n",
    "        return 3\n",
    "    elif sev_str == 'MODERATE':\n",
    "        return 2\n",
    "    elif sev_str == 'LOW':\n",
    "        return 1\n",
    "    raise Exception('Invalid severity')\n",
    "\n",
    "inspired_fixes['severity_int'] = inspired_fixes['severity'].apply(severity_to_int)\n",
    "non_inspired_fixes['severity_int'] = non_inspired_fixes['severity'].apply(severity_to_int)\n",
    "\n",
    "stat, p = mannwhitneyu(inspired_fixes['severity_int'].tolist(), non_inspired_fixes['severity_int'].tolist())\n",
    "\n",
    "print(f\"Mann-Whitney U Statistic: {stat}\")\n",
    "print(f\"P-Value: {p}\")"
   ],
   "id": "c66be6979a688e56",
   "outputs": [
    {
     "name": "stdout",
     "output_type": "stream",
     "text": [
      "Mann-Whitney U Statistic: 77522.5\n",
      "P-Value: 0.06077911470158867\n"
     ]
    }
   ],
   "execution_count": 27
  }
 ],
 "metadata": {
  "kernelspec": {
   "display_name": "Python 3",
   "language": "python",
   "name": "python3"
  },
  "language_info": {
   "codemirror_mode": {
    "name": "ipython",
    "version": 2
   },
   "file_extension": ".py",
   "mimetype": "text/x-python",
   "name": "python",
   "nbconvert_exporter": "python",
   "pygments_lexer": "ipython2",
   "version": "2.7.6"
  }
 },
 "nbformat": 4,
 "nbformat_minor": 5
}
